{
 "cells": [
  {
   "cell_type": "markdown",
   "id": "excited-pilot",
   "metadata": {},
   "source": [
    "# Reporte Práctica 2, Parte 2\n",
    "*Lau, Santi, Rafa y Sebas*\n",
    "**Optimización Avanzada**\n",
    "***"
   ]
  },
  {
   "cell_type": "markdown",
   "id": "professional-executive",
   "metadata": {},
   "source": [
    "## Introducción"
   ]
  },
  {
   "cell_type": "markdown",
   "id": "three-accused",
   "metadata": {},
   "source": [
    " En esta última parte de las prácticas desarrolladas durante el curso se reimplementan los métodos que se han desarrollado anteriormente, haciendo el código más eficiente mediante el uso de *multiprocessing*."
   ]
  },
  {
   "cell_type": "markdown",
   "id": "judicial-harassment",
   "metadata": {},
   "source": [
    "## Definición del Problema"
   ]
  },
  {
   "cell_type": "markdown",
   "id": "standing-flesh",
   "metadata": {},
   "source": [
    " En este ocasión trabajaremos nuevamente con el dataset que contiene las ciudades de China, `ch71009.tsp` que se encuentra en el directorio `datasets` de este repositorio$^{[2]}$. Tomaremos una muestra aleatoria de $100$ ciudades y $1000$ hormigas, de esta manera podremos comprobar que se ha hecho una mejora en el tiempo de cómputo en el algoritmo."
   ]
  },
  {
   "cell_type": "markdown",
   "id": "latter-playback",
   "metadata": {
    "tags": []
   },
   "source": [
    "## Perfilamiento"
   ]
  },
  {
   "cell_type": "markdown",
   "id": "attended-bubble",
   "metadata": {
    "tags": []
   },
   "source": [
    " La reimplementación desarrollada se hizo sobre la clase `colony` a una versión que utiliza multiprocesamiento, que se apoya de la librería `multiprocessing` que revisamos en el libro del curso $^{[1]}$ sobre el cómputo en paralelo."
   ]
  },
  {
   "cell_type": "markdown",
   "id": "operational-norfolk",
   "metadata": {
    "tags": []
   },
   "source": [
    " De los métodos que se desarrollaron anteriormente, notemos que el método `solve_tsp` es el que toma más tiempo durante su ejecución, por lo que en esta práctica se implementó la siguiente solución:\n",
    " \n",
    " - Se envía un número determinado de hormigas a un *pool* de workers, donde para cada iteración, las hormigas van a recorrer el grafo para buscar una solución.\n",
    " - En cada iteración se actualiza el número de feromonas del grafo según los recorridos determinados por cada una de las hormigas del punto anterior."
   ]
  },
  {
   "cell_type": "code",
   "execution_count": 52,
   "id": "verbal-overall",
   "metadata": {},
   "outputs": [
    {
     "name": "stdout",
     "output_type": "stream",
     "text": [
      "Collecting memory_profiler\n",
      "  Downloading memory_profiler-0.58.0.tar.gz (36 kB)\n",
      "Collecting psutil\n",
      "  Downloading psutil-5.8.0-cp36-cp36m-manylinux2010_x86_64.whl (291 kB)\n",
      "\u001b[K     |████████████████████████████████| 291 kB 44.6 MB/s eta 0:00:01\n",
      "\u001b[?25hBuilding wheels for collected packages: memory-profiler\n",
      "  Building wheel for memory-profiler (setup.py) ... \u001b[?25ldone\n",
      "\u001b[?25h  Created wheel for memory-profiler: filename=memory_profiler-0.58.0-py3-none-any.whl size=36588 sha256=62c592798a6aeabb66577a0e387675d5b8b5f37bcc815466badcfea82e2b8956\n",
      "  Stored in directory: /root/.cache/pip/wheels/8c/47/b0/6aa7f5774be599d4f5256b58061f8264dd0ec24bb9de56f568\n",
      "Successfully built memory-profiler\n",
      "Installing collected packages: psutil, memory-profiler\n",
      "Successfully installed memory-profiler-0.58.0 psutil-5.8.0\n",
      "\u001b[33mWARNING: Running pip as root will break packages and permissions. You should install packages reliably by using venv: https://pip.pypa.io/warnings/venv\u001b[0m\n"
     ]
    }
   ],
   "source": [
    "!pip install memory_profiler"
   ]
  },
  {
   "cell_type": "code",
   "execution_count": 53,
   "id": "lined-authorization",
   "metadata": {},
   "outputs": [],
   "source": [
    "import timeit\n",
    "import cProfile\n",
    "import pstats\n",
    "import memory_profiler\n",
    "from memory_profiler import memory_usage\n",
    "import line_profiler"
   ]
  },
  {
   "cell_type": "markdown",
   "id": "cardiovascular-degree",
   "metadata": {
    "tags": []
   },
   "source": [
    " Primero echemos un vistazo a las características de la máquina en la que se ejecuta este reporte:"
   ]
  },
  {
   "cell_type": "code",
   "execution_count": 42,
   "id": "binary-today",
   "metadata": {},
   "outputs": [
    {
     "name": "stdout",
     "output_type": "stream",
     "text": [
      "Architecture:        x86_64\n",
      "CPU op-mode(s):      32-bit, 64-bit\n",
      "Byte Order:          Little Endian\n",
      "CPU(s):              4\n",
      "On-line CPU(s) list: 0-3\n",
      "Thread(s) per core:  2\n",
      "Core(s) per socket:  2\n",
      "Socket(s):           1\n",
      "NUMA node(s):        1\n",
      "Vendor ID:           GenuineIntel\n",
      "CPU family:          6\n",
      "Model:               85\n",
      "Model name:          Intel(R) Xeon(R) Platinum 8259CL CPU @ 2.50GHz\n",
      "Stepping:            7\n",
      "CPU MHz:             3099.932\n",
      "BogoMIPS:            4999.99\n",
      "Hypervisor vendor:   KVM\n",
      "Virtualization type: full\n",
      "L1d cache:           32K\n",
      "L1i cache:           32K\n",
      "L2 cache:            1024K\n",
      "L3 cache:            36608K\n",
      "NUMA node0 CPU(s):   0-3\n",
      "Flags:               fpu vme de pse tsc msr pae mce cx8 apic sep mtrr pge mca cmov pat pse36 clflush mmx fxsr sse sse2 ss ht syscall nx pdpe1gb rdtscp lm constant_tsc rep_good nopl xtopology nonstop_tsc cpuid aperfmperf tsc_known_freq pni pclmulqdq ssse3 fma cx16 pcid sse4_1 sse4_2 x2apic movbe popcnt tsc_deadline_timer aes xsave avx f16c rdrand hypervisor lahf_lm abm 3dnowprefetch invpcid_single pti fsgsbase tsc_adjust bmi1 avx2 smep bmi2 erms invpcid mpx avx512f avx512dq rdseed adx smap clflushopt clwb avx512cd avx512bw avx512vl xsaveopt xsavec xgetbv1 xsaves ida arat pku ospke\n"
     ]
    }
   ],
   "source": [
    "!lscpu"
   ]
  },
  {
   "cell_type": "markdown",
   "id": "daily-entrepreneur",
   "metadata": {
    "tags": []
   },
   "source": [
    "Veremos el perfilamiento de tiempos de ejecución:"
   ]
  },
  {
   "cell_type": "code",
   "execution_count": null,
   "id": "analyzed-official",
   "metadata": {},
   "outputs": [],
   "source": []
  },
  {
   "cell_type": "code",
   "execution_count": null,
   "id": "green-preserve",
   "metadata": {},
   "outputs": [],
   "source": []
  },
  {
   "cell_type": "markdown",
   "id": "whole-orientation",
   "metadata": {},
   "source": [
    "## Implementación con `ant_colony`"
   ]
  },
  {
   "cell_type": "code",
   "execution_count": 20,
   "id": "substantial-browser",
   "metadata": {},
   "outputs": [],
   "source": [
    "#!pip install \"git+https://github.com/optimizacion-2-2021-1-gh-classroom/practica-1-segunda-parte-ltejadal.git#egg=ant-colony&subdirectory=src\" &> /dev/null"
   ]
  },
  {
   "cell_type": "code",
   "execution_count": 26,
   "id": "muslim-taiwan",
   "metadata": {},
   "outputs": [],
   "source": [
    "# librerias\n",
    "import ant_colony as ac\n",
    "import time"
   ]
  },
  {
   "cell_type": "code",
   "execution_count": 41,
   "id": "processed-invite",
   "metadata": {},
   "outputs": [
    {
     "name": "stdout",
     "output_type": "stream",
     "text": [
      "Problem with 71009 cities. Selected 100.\n"
     ]
    }
   ],
   "source": [
    "path_china = 'datasets/ch71009.tsp'\n",
    "G = ac.read_coord_data(path_china, n_cities=100, seed=1999)"
   ]
  },
  {
   "cell_type": "code",
   "execution_count": 43,
   "id": "toxic-switzerland",
   "metadata": {},
   "outputs": [],
   "source": [
    "n_ants = 1000"
   ]
  },
  {
   "cell_type": "markdown",
   "id": "unlike-nurse",
   "metadata": {
    "tags": []
   },
   "source": [
    "Vamos a medir el tiempo de ejecución con la clase anterior y compararla contra la nueva."
   ]
  },
  {
   "cell_type": "code",
   "execution_count": 44,
   "id": "modified-independence",
   "metadata": {},
   "outputs": [],
   "source": [
    "colony_old = ac.colony(G, init_node=0,  n_ants=n_ants)"
   ]
  },
  {
   "cell_type": "code",
   "execution_count": 45,
   "id": "found-consent",
   "metadata": {},
   "outputs": [],
   "source": [
    "start_time = time.time()\n",
    "colony_old.solve_tsp()\n",
    "end_time = time.time()"
   ]
  },
  {
   "cell_type": "code",
   "execution_count": 46,
   "id": "consecutive-engagement",
   "metadata": {},
   "outputs": [
    {
     "name": "stdout",
     "output_type": "stream",
     "text": [
      "La solucion sin pool tomó 2699.3665103912354 segundos.\n",
      "Distancia 1119.0648040721273 kms.\n"
     ]
    }
   ],
   "source": [
    "secs = end_time-start_time\n",
    "print(\"La solucion sin pool tomó\", secs, \"segundos.\" )\n",
    "print(f\"Distancia {colony_old.best_dist} kms.\")"
   ]
  },
  {
   "cell_type": "markdown",
   "id": "selected-ethics",
   "metadata": {
    "tags": []
   },
   "source": [
    "Ahora veremos con `cProfile` las partes del método que tardan más en su ejecución:"
   ]
  },
  {
   "cell_type": "code",
   "execution_count": 56,
   "id": "collectible-landscape",
   "metadata": {},
   "outputs": [
    {
     "name": "stdout",
     "output_type": "stream",
     "text": [
      "         3203921846 function calls (3203921746 primitive calls) in 3636.850 seconds\n",
      "\n",
      "   Ordered by: cumulative time\n",
      "\n",
      "   ncalls  tottime  percall  cumtime  percall filename:lineno(function)\n",
      "        2    0.000    0.000 3636.850 1818.425 interactiveshell.py:3288(run_code)\n",
      "        2    0.000    0.000 3636.850 1818.425 {built-in method builtins.exec}\n",
      "        1    0.000    0.000 3636.850 3636.850 <ipython-input-56-fdb53b4ac090>:3(<module>)\n",
      "        1    0.111    0.111 3636.850 3636.850 aco_tsp_oo.py:278(solve_tsp)\n",
      "      100  115.680    1.157 3634.949   36.349 aco_tsp_oo.py:247(_colony_run)\n",
      "   100000  245.426    0.002 3519.218    0.035 aco_tsp_oo.py:317(walk_over_graph)\n",
      "   100000  693.978    0.007 3031.069    0.030 utils.py:70(create_dic_dist_from_graph)\n",
      "1010100000 1205.066    0.000 1475.698    0.000 defmatrix.py:189(__getitem__)\n",
      "   100000    1.966    0.000  860.889    0.009 convert_matrix.py:442(to_numpy_matrix)\n",
      "   100000  615.408    0.006  853.594    0.009 convert_matrix.py:1093(to_numpy_array)\n",
      "1030300000  246.654    0.000  246.654    0.000 {built-in method builtins.isinstance}\n",
      "990000000  230.552    0.000  230.552    0.000 {method 'get' of 'dict' objects}\n",
      "  9900000   89.755    0.000  120.099    0.000 random.py:343(choices)\n",
      "  9900000   95.939    0.000   95.939    0.000 aco_tsp_oo.py:341(<listcomp>)\n",
      "  9900000   15.294    0.000   25.934    0.000 random.py:364(<listcomp>)\n",
      " 20100000   16.903    0.000   20.738    0.000 defmatrix.py:167(__array_finalize__)\n",
      "70300400/70300300   17.289    0.000   17.289    0.000 {built-in method builtins.len}\n",
      "  9910000    8.096    0.000   11.693    0.000 graph.py:1199(neighbors)\n",
      "  9900000    8.352    0.000    8.352    0.000 {built-in method _bisect.bisect}\n",
      "   100000    5.585    0.000    5.585    0.000 aco_tsp_oo.py:346(<listcomp>)\n",
      "   100000    0.844    0.000    5.329    0.000 defmatrix.py:36(asmatrix)\n",
      "   100000    0.909    0.000    4.677    0.000 numeric.py:268(full)\n",
      "   100000    1.305    0.000    4.484    0.000 defmatrix.py:115(__new__)\n",
      " 10310100    4.007    0.000    4.007    0.000 {built-in method builtins.iter}\n",
      "   100000    0.322    0.000    2.964    0.000 <__array_function__ internals>:2(copyto)\n",
      "   100000    2.556    0.000    2.556    0.000 {built-in method numpy.core._multiarray_umath.implement_array_function}\n",
      "   100000    2.354    0.000    2.354    0.000 {built-in method builtins.sum}\n",
      "  9900000    2.289    0.000    2.289    0.000 {method 'random' of '_random.Random' objects}\n",
      "   100000    2.139    0.000    2.139    0.000 {built-in method _warnings.warn}\n",
      " 10100000    1.776    0.000    1.776    0.000 {method 'items' of 'dict' objects}\n",
      "      100    1.575    0.016    1.581    0.016 utils.py:135(atraccion_nodos)\n",
      "   200200    1.008    0.000    1.443    0.000 graph.py:656(nodes)\n",
      "   100000    0.556    0.000    0.978    0.000 {method 'view' of 'numpy.ndarray' objects}\n",
      "   200000    0.770    0.000    0.770    0.000 {built-in method numpy.array}\n",
      "   200100    0.337    0.000    0.587    0.000 reportviews.py:183(__iter__)\n",
      "   200200    0.435    0.000    0.435    0.000 reportviews.py:176(__init__)\n",
      "   100000    0.119    0.000    0.422    0.000 _asarray.py:14(asarray)\n",
      "   100000    0.233    0.000    0.409    0.000 graph.py:1345(adjacency)\n",
      "   100000    0.339    0.000    0.339    0.000 {built-in method numpy.empty}\n",
      "   200200    0.310    0.000    0.337    0.000 reportviews.py:180(__len__)\n",
      "       98    0.209    0.002    0.209    0.002 aco_tsp_oo.py:239(_evaporates_pheromone)\n",
      "   100000    0.099    0.000    0.107    0.000 graph.py:420(__len__)\n",
      "   100000    0.086    0.000    0.086    0.000 multiarray.py:1043(copyto)\n",
      "   100000    0.080    0.000    0.080    0.000 graph.py:1439(is_multigraph)\n",
      "   100000    0.063    0.000    0.077    0.000 graph.py:388(__iter__)\n",
      "   200000    0.046    0.000    0.046    0.000 {method 'append' of 'list' objects}\n",
      "   100000    0.030    0.000    0.030    0.000 graph.py:1443(is_directed)\n",
      "      100    0.003    0.000    0.003    0.000 {built-in method builtins.min}\n",
      "      100    0.000    0.000    0.001    0.000 aco_tsp_oo.py:225(_update_many_pheromone_levels)\n",
      "      100    0.001    0.000    0.001    0.000 {method 'index' of 'list' objects}\n",
      "        2    0.000    0.000    0.000    0.000 codeop.py:132(__call__)\n",
      "        2    0.000    0.000    0.000    0.000 {built-in method builtins.compile}\n",
      "        2    0.000    0.000    0.000    0.000 contextlib.py:157(helper)\n",
      "        2    0.000    0.000    0.000    0.000 contextlib.py:59(__init__)\n",
      "        4    0.000    0.000    0.000    0.000 {built-in method builtins.next}\n",
      "        4    0.000    0.000    0.000    0.000 {built-in method builtins.getattr}\n",
      "        2    0.000    0.000    0.000    0.000 contextlib.py:79(__enter__)\n",
      "        4    0.000    0.000    0.000    0.000 compilerop.py:138(extra_flags)\n",
      "        2    0.000    0.000    0.000    0.000 hooks.py:142(__call__)\n",
      "        2    0.000    0.000    0.000    0.000 contextlib.py:85(__exit__)\n",
      "        1    0.000    0.000    0.000    0.000 <ipython-input-56-fdb53b4ac090>:4(<module>)\n",
      "        2    0.000    0.000    0.000    0.000 interactiveshell.py:117(<lambda>)\n",
      "        2    0.000    0.000    0.000    0.000 ipstruct.py:125(__getattr__)\n",
      "        2    0.000    0.000    0.000    0.000 traitlets.py:545(__get__)\n",
      "        2    0.000    0.000    0.000    0.000 interactiveshell.py:1272(user_global_ns)\n",
      "        2    0.000    0.000    0.000    0.000 traitlets.py:526(get)\n",
      "        1    0.000    0.000    0.000    0.000 {method 'disable' of '_lsprof.Profiler' objects}\n",
      "        2    0.000    0.000    0.000    0.000 hooks.py:207(pre_run_code_hook)\n",
      "        2    0.000    0.000    0.000    0.000 interactiveshell.py:3230(compare)\n",
      "\n",
      "\n"
     ]
    }
   ],
   "source": [
    "cprof = cProfile.Profile()\n",
    "cprof.enable()\n",
    "res =  colony_old.solve_tsp()\n",
    "cprof.disable()\n",
    "cprof.print_stats(sort='cumtime')"
   ]
  },
  {
   "cell_type": "code",
   "execution_count": 57,
   "id": "dated-range",
   "metadata": {},
   "outputs": [],
   "source": [
    "cprof.dump_stats(\"solve_tsp_stats\")"
   ]
  },
  {
   "cell_type": "code",
   "execution_count": 58,
   "id": "embedded-companion",
   "metadata": {},
   "outputs": [
    {
     "name": "stdout",
     "output_type": "stream",
     "text": [
      "Sun May  9 17:10:50 2021    solve_tsp_stats\n",
      "\n",
      "         3203921846 function calls (3203921746 primitive calls) in 3636.850 seconds\n",
      "\n",
      "   Ordered by: cumulative time\n",
      "   List reduced from 69 to 10 due to restriction <10>\n",
      "\n",
      "   ncalls  tottime  percall  cumtime  percall filename:lineno(function)\n",
      "        2    0.000    0.000 3636.850 1818.425 /usr/local/lib/python3.6/dist-packages/IPython/core/interactiveshell.py:3288(run_code)\n",
      "        2    0.000    0.000 3636.850 1818.425 {built-in method builtins.exec}\n",
      "        1    0.000    0.000 3636.850 3636.850 <ipython-input-56-fdb53b4ac090>:3(<module>)\n",
      "        1    0.111    0.111 3636.850 3636.850 /usr/local/lib/python3.6/dist-packages/ant_colony/aco_tsp_oo.py:278(solve_tsp)\n",
      "      100  115.680    1.157 3634.949   36.349 /usr/local/lib/python3.6/dist-packages/ant_colony/aco_tsp_oo.py:247(_colony_run)\n",
      "   100000  245.426    0.002 3519.218    0.035 /usr/local/lib/python3.6/dist-packages/ant_colony/aco_tsp_oo.py:317(walk_over_graph)\n",
      "   100000  693.978    0.007 3031.069    0.030 /usr/local/lib/python3.6/dist-packages/ant_colony/utils.py:70(create_dic_dist_from_graph)\n",
      "1010100000 1205.066    0.000 1475.698    0.000 /usr/local/lib/python3.6/dist-packages/numpy/matrixlib/defmatrix.py:189(__getitem__)\n",
      "   100000    1.966    0.000  860.889    0.009 /usr/local/lib/python3.6/dist-packages/networkx/convert_matrix.py:442(to_numpy_matrix)\n",
      "   100000  615.408    0.006  853.594    0.009 /usr/local/lib/python3.6/dist-packages/networkx/convert_matrix.py:1093(to_numpy_array)\n",
      "\n",
      "\n",
      "<pstats.Stats object at 0x7efe5e04f898>\n"
     ]
    }
   ],
   "source": [
    "p_solve_tsp_stats = pstats.Stats(\"solve_tsp_stats\")\n",
    "print(p_solve_tsp_stats.sort_stats(\"cumulative\").print_stats(10))"
   ]
  },
  {
   "cell_type": "markdown",
   "id": "solved-marsh",
   "metadata": {
    "tags": []
   },
   "source": [
    " Las que más se tardan en su ejecución son:\n",
    " \n",
    " - Métodos de `ant_colony`:\n",
    "     - `walk_over_graph`\n",
    "     - `create_dict_dist_from_graph`\n",
    " - Método de `numpy`:    \n",
    "     - `get_item`\n",
    " - Método de `networkx`:\n",
    "     - `convert_matrix`\n",
    "     \n",
    " Nos concentramos en perfilar los métodos de `ant_colony` que más se tardan, ya que nuestro objetivo es mejorar la implementación del algoritmo."
   ]
  },
  {
   "cell_type": "markdown",
   "id": "operational-emission",
   "metadata": {
    "tags": []
   },
   "source": [
    "## Implementación con `colony_mutiw`"
   ]
  },
  {
   "cell_type": "code",
   "execution_count": 47,
   "id": "coordinated-cross",
   "metadata": {},
   "outputs": [],
   "source": [
    "colony_mw = ac.colony_multiw(G, init_node=0,  n_ants= n_ants, n_workers=4)"
   ]
  },
  {
   "cell_type": "code",
   "execution_count": 48,
   "id": "rural-fisher",
   "metadata": {},
   "outputs": [],
   "source": [
    "start_time = time.time()\n",
    "colony_mw.solve_tsp()\n",
    "end_time = time.time()"
   ]
  },
  {
   "cell_type": "code",
   "execution_count": 49,
   "id": "herbal-gasoline",
   "metadata": {},
   "outputs": [
    {
     "name": "stdout",
     "output_type": "stream",
     "text": [
      "La solucion con pool de workers tomó 452.3769097328186 segundos.\n",
      "Distancia 1119.0648040721273 kms.\n"
     ]
    }
   ],
   "source": [
    "secs = end_time-start_time\n",
    "print(\"La solucion con pool de workers tomó\", secs, \"segundos.\" )\n",
    "print(f\"Distancia {colony_mw.best_dist} kms.\")"
   ]
  },
  {
   "cell_type": "markdown",
   "id": "south-modern",
   "metadata": {
    "tags": []
   },
   "source": [
    "El tiempo de ejecución se ha reducido casi 6 veces respecto a la clase que habíamos definido anteriormente."
   ]
  },
  {
   "cell_type": "markdown",
   "id": "functional-gamma",
   "metadata": {
    "tags": []
   },
   "source": [
    "Ahora veremos con `cProfile` las partes del método que tardan más en su ejecución:"
   ]
  },
  {
   "cell_type": "code",
   "execution_count": 59,
   "id": "serious-august",
   "metadata": {},
   "outputs": [
    {
     "name": "stdout",
     "output_type": "stream",
     "text": [
      "         23809 function calls (23799 primitive calls) in 598.145 seconds\n",
      "\n",
      "   Ordered by: cumulative time\n",
      "\n",
      "   ncalls  tottime  percall  cumtime  percall filename:lineno(function)\n",
      "        2    0.000    0.000  598.144  299.072 interactiveshell.py:3288(run_code)\n",
      "        2    0.000    0.000  598.144  299.072 {built-in method builtins.exec}\n",
      "        1    0.000    0.000  598.144  598.144 <ipython-input-59-d6c20ddcbdad>:3(<module>)\n",
      "        1    0.010    0.010  598.144  598.144 aco_tsp_oo.py:150(solve_tsp)\n",
      "       10    0.005    0.001  597.770   59.777 aco_tsp_oo.py:124(_colony_run)\n",
      "       10    0.004    0.000  597.762   59.776 aco_tsp_oo.py:106(_multiprocessing_bt)\n",
      "      120    0.006    0.000  595.029    4.959 threading.py:533(wait)\n",
      "      110    0.001    0.000  595.023    5.409 threading.py:263(wait)\n",
      "      721  595.015    0.825  595.015    0.825 {method 'acquire' of '_thread.lock' objects}\n",
      "       10    0.000    0.000  594.740   59.474 pool.py:268(starmap)\n",
      "       10    0.000    0.000  594.739   59.474 pool.py:637(get)\n",
      "       10    0.000    0.000  594.739   59.474 pool.py:634(wait)\n",
      "       10    0.001    0.000    1.796    0.180 context.py:114(Pool)\n",
      "       10    0.012    0.001    1.795    0.180 pool.py:153(__init__)\n",
      "       10    0.072    0.007    1.604    0.160 pool.py:225(_repopulate_pool)\n",
      "       40    0.003    0.000    1.509    0.038 process.py:95(start)\n",
      "       40    0.002    0.000    1.504    0.038 context.py:274(_Popen)\n",
      "       40    0.001    0.000    1.498    0.037 popen_fork.py:16(__init__)\n",
      "       50    0.000    0.000    1.218    0.024 util.py:167(__call__)\n",
      "       10    0.000    0.000    1.218    0.122 pool.py:610(__exit__)\n",
      "       10    0.000    0.000    1.218    0.122 pool.py:537(terminate)\n",
      "       10    0.001    0.000    1.217    0.122 pool.py:561(_terminate_pool)\n",
      "       40    0.126    0.003    1.183    0.030 popen_fork.py:63(_launch)\n",
      "       40    0.935    0.023    0.935    0.023 {built-in method posix.fork}\n",
      "       10    0.000    0.000    0.736    0.074 pool.py:552(_help_stuff_finish)\n",
      "       10    0.736    0.074    0.736    0.074 {method 'acquire' of '_multiprocessing.SemLock' objects}\n",
      "      162    0.001    0.000    0.479    0.003 popen_fork.py:24(poll)\n",
      "      162    0.479    0.003    0.479    0.003 {built-in method posix.waitpid}\n",
      "       22    0.000    0.000    0.477    0.022 process.py:118(join)\n",
      "       22    0.000    0.000    0.477    0.022 popen_fork.py:43(wait)\n",
      "       40    0.001    0.000    0.313    0.008 util.py:395(_flush_std_streams)\n",
      "       80    0.026    0.000    0.312    0.004 iostream.py:335(flush)\n",
      "        8    0.203    0.025    0.203    0.025 aco_tsp_oo.py:79(_evaporates_pheromone)\n",
      "       30    0.001    0.000    0.167    0.006 threading.py:828(start)\n",
      "       10    0.161    0.016    0.162    0.016 utils.py:135(atraccion_nodos)\n",
      "       50    0.119    0.002    0.119    0.002 util.py:151(__init__)\n",
      "       30    0.082    0.003    0.082    0.003 {built-in method _thread.start_new_thread}\n",
      "      160    0.002    0.000    0.077    0.000 iostream.py:195(schedule)\n",
      "      160    0.074    0.000    0.074    0.000 socket.py:438(send)\n",
      "       40    0.000    0.000    0.023    0.001 pool.py:150(Process)\n",
      "       40    0.002    0.000    0.023    0.001 process.py:71(__init__)\n",
      "       80    0.012    0.000    0.012    0.000 {method 'join' of 'str' objects}\n",
      "       30    0.002    0.000    0.007    0.000 threading.py:757(__init__)\n",
      "      240    0.007    0.000    0.007    0.000 {built-in method _thread.allocate_lock}\n",
      "       70    0.001    0.000    0.007    0.000 _weakrefset.py:81(add)\n",
      "      110    0.007    0.000    0.007    0.000 {method 'add' of 'set' objects}\n",
      "      120    0.002    0.000    0.006    0.000 threading.py:498(__init__)\n",
      "       10    0.000    0.000    0.005    0.001 pool.py:248(_setup_queues)\n",
      "       20    0.000    0.000    0.005    0.000 context.py:109(SimpleQueue)\n",
      "       20    0.000    0.000    0.005    0.000 queues.py:313(__init__)\n",
      "      110    0.000    0.000    0.005    0.000 <frozen importlib._bootstrap>:997(_handle_fromlist)\n",
      "      140    0.004    0.000    0.004    0.000 {built-in method builtins.hasattr}\n",
      "      150    0.004    0.000    0.004    0.000 threading.py:215(__init__)\n",
      "       40    0.000    0.000    0.004    0.000 context.py:64(Lock)\n",
      "       40    0.000    0.000    0.004    0.000 synchronize.py:161(__init__)\n",
      "       40    0.002    0.000    0.004    0.000 synchronize.py:50(__init__)\n",
      "      120    0.004    0.000    0.004    0.000 {built-in method posix.close}\n",
      "       10    0.002    0.000    0.003    0.000 utils.py:38(flatten_list_of_list)\n",
      "       50    0.002    0.000    0.002    0.000 {method 'copy' of 'dict' objects}\n",
      "      260    0.001    0.000    0.002    0.000 threading.py:1104(is_alive)\n",
      "      184    0.000    0.000    0.002    0.000 {built-in method builtins.next}\n",
      "       10    0.000    0.000    0.002    0.000 <__array_function__ internals>:2(argmin)\n",
      "       40    0.000    0.000    0.002    0.000 synchronize.py:114(_make_name)\n",
      "       40    0.000    0.000    0.002    0.000 process.py:128(is_alive)\n",
      "       10    0.000    0.000    0.002    0.000 {built-in method numpy.core._multiarray_umath.implement_array_function}\n",
      "       10    0.000    0.000    0.002    0.000 fromnumeric.py:1195(argmin)\n",
      "       10    0.000    0.000    0.001    0.000 fromnumeric.py:52(_wrapfunc)\n",
      "       40    0.000    0.000    0.001    0.000 process.py:52(_cleanup)\n",
      "       10    0.000    0.000    0.001    0.000 fromnumeric.py:39(_wrapit)\n",
      "       40    0.000    0.000    0.001    0.000 tempfile.py:296(__next__)\n",
      "       10    0.000    0.000    0.001    0.000 pool.py:368(_map_async)\n",
      "       10    0.000    0.000    0.001    0.000 _asarray.py:14(asarray)\n",
      "       10    0.001    0.000    0.001    0.000 {built-in method numpy.array}\n",
      "       60    0.001    0.000    0.001    0.000 {built-in method posix.pipe}\n",
      "    10040    0.001    0.000    0.001    0.000 {method 'append' of 'list' objects}\n",
      "       40    0.000    0.000    0.001    0.000 tempfile.py:299(<listcomp>)\n",
      "      290    0.000    0.000    0.001    0.000 threading.py:1062(_wait_for_tstate_lock)\n",
      "      320    0.000    0.000    0.001    0.000 random.py:255(choice)\n",
      "       20    0.000    0.000    0.001    0.000 connection.py:501(Pipe)\n",
      "       10    0.000    0.000    0.001    0.000 queues.py:339(put)\n",
      "     1000    0.000    0.000    0.001    0.000 graph.py:1199(neighbors)\n",
      "       10    0.000    0.000    0.000    0.000 pool.py:663(__init__)\n",
      "       40    0.000    0.000    0.000    0.000 util.py:136(register_after_fork)\n",
      "      160    0.000    0.000    0.000    0.000 iostream.py:91(_event_pipe)\n",
      "      320    0.000    0.000    0.000    0.000 random.py:223(_randbelow)\n",
      "      282    0.000    0.000    0.000    0.000 {built-in method posix.getpid}\n",
      "      110    0.000    0.000    0.000    0.000 <frozen importlib._bootstrap>:416(parent)\n",
      "       40    0.000    0.000    0.000    0.000 process.py:112(terminate)\n",
      "       10    0.000    0.000    0.000    0.000 pool.py:619(__init__)\n",
      "       40    0.000    0.000    0.000    0.000 weakref.py:109(remove)\n",
      "       40    0.000    0.000    0.000    0.000 popen_fork.py:53(terminate)\n",
      "       10    0.000    0.000    0.000    0.000 queue.py:115(put)\n",
      "       10    0.000    0.000    0.000    0.000 reduction.py:48(dumps)\n",
      "       40    0.000    0.000    0.000    0.000 weakref.py:165(__setitem__)\n",
      "       10    0.000    0.000    0.000    0.000 aco_tsp_oo.py:65(_update_many_pheromone_levels)\n",
      "      280    0.000    0.000    0.000    0.000 {method 'append' of 'collections.deque' objects}\n",
      "       30    0.000    0.000    0.000    0.000 threading.py:1024(join)\n",
      "       10    0.000    0.000    0.000    0.000 connection.py:181(send_bytes)\n",
      "       40    0.000    0.000    0.000    0.000 process.py:181(exitcode)\n",
      "       10    0.000    0.000    0.000    0.000 queue.py:27(__init__)\n",
      "       40    0.000    0.000    0.000    0.000 connection.py:130(__del__)\n",
      "      130    0.000    0.000    0.000    0.000 threading.py:239(__enter__)\n",
      "      110    0.000    0.000    0.000    0.000 threading.py:251(_acquire_restore)\n",
      "       90    0.000    0.000    0.000    0.000 threading.py:1230(current_thread)\n",
      "     1010    0.000    0.000    0.000    0.000 {built-in method builtins.iter}\n",
      "       10    0.000    0.000    0.000    0.000 reduction.py:38(__init__)\n",
      "      120    0.000    0.000    0.000    0.000 threading.py:254(_is_owned)\n",
      "       70    0.000    0.000    0.000    0.000 _weakrefset.py:38(_remove)\n",
      "      360    0.000    0.000    0.000    0.000 threading.py:506(is_set)\n",
      "       20    0.000    0.000    0.000    0.000 graph.py:656(nodes)\n",
      "       40    0.000    0.000    0.000    0.000 connection.py:360(_close)\n",
      "       40    0.000    0.000    0.000    0.000 {built-in method posix.kill}\n",
      "       30    0.000    0.000    0.000    0.000 threading.py:727(_newname)\n",
      "       10    0.000    0.000    0.000    0.000 threading.py:334(notify)\n",
      "       40    0.000    0.000    0.000    0.000 tempfile.py:285(rng)\n",
      "      130    0.000    0.000    0.000    0.000 threading.py:242(__exit__)\n",
      "      110    0.000    0.000    0.000    0.000 threading.py:248(_release_save)\n",
      "  459/449    0.000    0.000    0.000    0.000 {built-in method builtins.len}\n",
      "      110    0.000    0.000    0.000    0.000 {method 'discard' of 'set' objects}\n",
      "       40    0.000    0.000    0.000    0.000 {method 'replace' of 'str' objects}\n",
      "      150    0.000    0.000    0.000    0.000 {method 'release' of '_thread.lock' objects}\n",
      "       80    0.000    0.000    0.000    0.000 process.py:83(<genexpr>)\n",
      "       10    0.000    0.000    0.000    0.000 connection.py:390(_send_bytes)\n",
      "       10    0.000    0.000    0.000    0.000 {method 'argmin' of 'numpy.ndarray' objects}\n",
      "      566    0.000    0.000    0.000    0.000 {method 'getrandbits' of '_random.Random' objects}\n",
      "       64    0.000    0.000    0.000    0.000 {built-in method builtins.getattr}\n",
      "       40    0.000    0.000    0.000    0.000 {built-in method _weakref._remove_dead_weakref}\n",
      "       30    0.000    0.000    0.000    0.000 threading.py:1136(daemon)\n",
      "       40    0.000    0.000    0.000    0.000 connection.py:117(__init__)\n",
      "        2    0.000    0.000    0.000    0.000 codeop.py:132(__call__)\n",
      "       40    0.000    0.000    0.000    0.000 process.py:150(name)\n",
      "      192    0.000    0.000    0.000    0.000 util.py:48(debug)\n",
      "      110    0.000    0.000    0.000    0.000 {method 'rpartition' of 'str' objects}\n",
      "       40    0.000    0.000    0.000    0.000 weakref.py:334(__new__)\n",
      "       30    0.000    0.000    0.000    0.000 threading.py:966(_stop)\n",
      "        2    0.000    0.000    0.000    0.000 {built-in method builtins.compile}\n",
      "      130    0.000    0.000    0.000    0.000 {method '__enter__' of '_thread.lock' objects}\n",
      "       10    0.000    0.000    0.000    0.000 connection.py:365(_send)\n",
      "       40    0.000    0.000    0.000    0.000 weakref.py:339(__init__)\n",
      "       80    0.000    0.000    0.000    0.000 {built-in method _imp.lock_held}\n",
      "       10    0.000    0.000    0.000    0.000 {method 'dump' of '_pickle.Pickler' objects}\n",
      "       40    0.000    0.000    0.000    0.000 {built-in method posix.WIFSIGNALED}\n",
      "       10    0.000    0.000    0.000    0.000 {built-in method posix.write}\n",
      "      130    0.000    0.000    0.000    0.000 {method '__exit__' of '_thread.lock' objects}\n",
      "       40    0.000    0.000    0.000    0.000 process.py:146(name)\n",
      "       20    0.000    0.000    0.000    0.000 reportviews.py:176(__init__)\n",
      "       40    0.000    0.000    0.000    0.000 process.py:162(daemon)\n",
      "       30    0.000    0.000    0.000    0.000 threading.py:1120(daemon)\n",
      "      320    0.000    0.000    0.000    0.000 {method 'bit_length' of 'int' objects}\n",
      "       10    0.000    0.000    0.000    0.000 {method 'update' of 'dict' objects}\n",
      "       40    0.000    0.000    0.000    0.000 synchronize.py:90(_make_methods)\n",
      "       10    0.000    0.000    0.000    0.000 synchronize.py:94(__enter__)\n",
      "       10    0.000    0.000    0.000    0.000 queue.py:206(_put)\n",
      "       40    0.000    0.000    0.000    0.000 {built-in method __new__ of type object at 0x9d12c0}\n",
      "       22    0.000    0.000    0.000    0.000 process.py:190(ident)\n",
      "       10    0.000    0.000    0.000    0.000 pool.py:627(ready)\n",
      "       90    0.000    0.000    0.000    0.000 {built-in method _thread.get_ident}\n",
      "       10    0.000    0.000    0.000    0.000 reportviews.py:183(__iter__)\n",
      "        2    0.000    0.000    0.000    0.000 contextlib.py:157(helper)\n",
      "       20    0.000    0.000    0.000    0.000 reportviews.py:180(__len__)\n",
      "       50    0.000    0.000    0.000    0.000 util.py:44(sub_debug)\n",
      "       40    0.000    0.000    0.000    0.000 {method 'get' of 'dict' objects}\n",
      "       40    0.000    0.000    0.000    0.000 {built-in method builtins.isinstance}\n",
      "       60    0.000    0.000    0.000    0.000 context.py:186(get_context)\n",
      "       10    0.000    0.000    0.000    0.000 synchronize.py:97(__exit__)\n",
      "       10    0.000    0.000    0.000    0.000 {method '__enter__' of '_multiprocessing.SemLock' objects}\n",
      "       10    0.000    0.000    0.000    0.000 queue.py:199(_init)\n",
      "        2    0.000    0.000    0.000    0.000 contextlib.py:59(__init__)\n",
      "       10    0.000    0.000    0.000    0.000 {built-in method builtins.divmod}\n",
      "       40    0.000    0.000    0.000    0.000 process.py:35(current_process)\n",
      "       23    0.000    0.000    0.000    0.000 {built-in method posix.WIFEXITED}\n",
      "       10    0.000    0.000    0.000    0.000 {built-in method _struct.pack}\n",
      "       40    0.000    0.000    0.000    0.000 {built-in method builtins.id}\n",
      "        2    0.000    0.000    0.000    0.000 hooks.py:142(__call__)\n",
      "       10    0.000    0.000    0.000    0.000 {method 'getbuffer' of '_io.BytesIO' objects}\n",
      "       40    0.000    0.000    0.000    0.000 context.py:196(get_start_method)\n",
      "        2    0.000    0.000    0.000    0.000 interactiveshell.py:117(<lambda>)\n",
      "        2    0.000    0.000    0.000    0.000 contextlib.py:79(__enter__)\n",
      "       10    0.000    0.000    0.000    0.000 context.py:232(get_context)\n",
      "       23    0.000    0.000    0.000    0.000 {built-in method posix.WEXITSTATUS}\n",
      "        2    0.000    0.000    0.000    0.000 traitlets.py:545(__get__)\n",
      "       17    0.000    0.000    0.000    0.000 {built-in method posix.WTERMSIG}\n",
      "       10    0.000    0.000    0.000    0.000 fromnumeric.py:1191(_argmin_dispatcher)\n",
      "        2    0.000    0.000    0.000    0.000 contextlib.py:85(__exit__)\n",
      "        1    0.000    0.000    0.000    0.000 <ipython-input-59-d6c20ddcbdad>:4(<module>)\n",
      "        2    0.000    0.000    0.000    0.000 ipstruct.py:125(__getattr__)\n",
      "        4    0.000    0.000    0.000    0.000 compilerop.py:138(extra_flags)\n",
      "       10    0.000    0.000    0.000    0.000 pool.py:607(__enter__)\n",
      "       10    0.000    0.000    0.000    0.000 {method '__exit__' of '_multiprocessing.SemLock' objects}\n",
      "       10    0.000    0.000    0.000    0.000 connection.py:134(_check_closed)\n",
      "       10    0.000    0.000    0.000    0.000 connection.py:142(_check_writable)\n",
      "       30    0.000    0.000    0.000    0.000 {method 'locked' of '_thread.lock' objects}\n",
      "       10    0.000    0.000    0.000    0.000 {method 'remove' of 'collections.deque' objects}\n",
      "        2    0.000    0.000    0.000    0.000 traitlets.py:526(get)\n",
      "        2    0.000    0.000    0.000    0.000 hooks.py:207(pre_run_code_hook)\n",
      "        2    0.000    0.000    0.000    0.000 interactiveshell.py:3230(compare)\n",
      "        2    0.000    0.000    0.000    0.000 interactiveshell.py:1272(user_global_ns)\n",
      "        1    0.000    0.000    0.000    0.000 {method 'disable' of '_lsprof.Profiler' objects}\n",
      "\n",
      "\n"
     ]
    }
   ],
   "source": [
    "cprof = cProfile.Profile()\n",
    "cprof.enable()\n",
    "res =  colony_mw.solve_tsp()\n",
    "cprof.disable()\n",
    "cprof.print_stats(sort='cumtime')"
   ]
  },
  {
   "cell_type": "code",
   "execution_count": 60,
   "id": "powered-apollo",
   "metadata": {},
   "outputs": [],
   "source": [
    "cprof.dump_stats(\"solve_tsp_stats\")"
   ]
  },
  {
   "cell_type": "code",
   "execution_count": 61,
   "id": "difficult-syndicate",
   "metadata": {},
   "outputs": [
    {
     "name": "stdout",
     "output_type": "stream",
     "text": [
      "Sun May  9 17:25:20 2021    solve_tsp_stats\n",
      "\n",
      "         23809 function calls (23799 primitive calls) in 598.145 seconds\n",
      "\n",
      "   Ordered by: cumulative time\n",
      "   List reduced from 198 to 10 due to restriction <10>\n",
      "\n",
      "   ncalls  tottime  percall  cumtime  percall filename:lineno(function)\n",
      "        2    0.000    0.000  598.144  299.072 /usr/local/lib/python3.6/dist-packages/IPython/core/interactiveshell.py:3288(run_code)\n",
      "        2    0.000    0.000  598.144  299.072 {built-in method builtins.exec}\n",
      "        1    0.000    0.000  598.144  598.144 <ipython-input-59-d6c20ddcbdad>:3(<module>)\n",
      "        1    0.010    0.010  598.144  598.144 /usr/local/lib/python3.6/dist-packages/ant_colony/aco_tsp_oo.py:150(solve_tsp)\n",
      "       10    0.005    0.001  597.770   59.777 /usr/local/lib/python3.6/dist-packages/ant_colony/aco_tsp_oo.py:124(_colony_run)\n",
      "       10    0.004    0.000  597.762   59.776 /usr/local/lib/python3.6/dist-packages/ant_colony/aco_tsp_oo.py:106(_multiprocessing_bt)\n",
      "      120    0.006    0.000  595.029    4.959 /usr/lib/python3.6/threading.py:533(wait)\n",
      "      110    0.001    0.000  595.023    5.409 /usr/lib/python3.6/threading.py:263(wait)\n",
      "      721  595.015    0.825  595.015    0.825 {method 'acquire' of '_thread.lock' objects}\n",
      "       10    0.000    0.000  594.740   59.474 /usr/lib/python3.6/multiprocessing/pool.py:268(starmap)\n",
      "\n",
      "\n",
      "<pstats.Stats object at 0x7efe5e05dcf8>\n"
     ]
    }
   ],
   "source": [
    "p_solve_tsp_stats = pstats.Stats(\"solve_tsp_stats\")\n",
    "print(p_solve_tsp_stats.sort_stats(\"cumulative\").print_stats(10))"
   ]
  },
  {
   "cell_type": "markdown",
   "id": "technical-hydrogen",
   "metadata": {},
   "source": [
    "## Conclusión"
   ]
  },
  {
   "cell_type": "markdown",
   "id": "western-restaurant",
   "metadata": {},
   "source": [
    " A diferencia de lo que notamos en el ejemplo de multiprocessing$^{[3]}$, en el que el tiempo se reduce a $21$ segundos, al ejecutar las pruebas (tests) con la misma configuración de parámetros, el tiempo de las pruebas es ligeramente mayor, ya que la instancia que levanta github no tiene la misma capacidad que la que levantamos en AWS.\n",
    "\n",
    "Por otro lado, notemos que para ambos casos presentados en este reporte la distancia se mantiene fija, pero el tiempo de ejecución se ha reducido sustancialmente. Con esta nueva implementación en la que se utiliza cómputo en paralelo el tiempo de cómputo se redujo aproximadamente 6 veces, consiguiendo el objetivo de optimización del algoritmo."
   ]
  },
  {
   "cell_type": "markdown",
   "id": "specific-infection",
   "metadata": {},
   "source": [
    "## Referencias"
   ]
  },
  {
   "cell_type": "markdown",
   "id": "pediatric-spyware",
   "metadata": {},
   "source": [
    "1. [Cómputo en paralelo usando CPUs en un sistema de memoria compartida (SMC)](https://itam-ds.github.io/analisis-numerico-computo-cientifico/V.optimizacion_de_codigo/5.4/Computo_en_paralelo_usando_CPUS_en_SMC.html#multiprocessing) (2021) Erick Palacios\n",
    "2. [National Travelling Salesman Problems](https://www.math.uwaterloo.ca/tsp/world/countries.html) (2017) University of Waterloo\n",
    "3. [Implementación con Multiprocessing](https://github.com/optimizacion-2-2021-1-gh-classroom/practica-2-segunda-parte-ltejadal/blob/main/notebooks/eficiencia_codigo/ejemplo_multiprocessing.ipynb) (2021) optimizacion-2-2021-1-gh-classroom\n",
    "/\n",
    "practica-2-segunda-parte-ltejadal"
   ]
  }
 ],
 "metadata": {
  "kernelspec": {
   "display_name": "Python 3",
   "language": "python",
   "name": "python3"
  },
  "kubeflow_notebook": {
   "autosnapshot": false,
   "docker_image": "",
   "experiment": {
    "id": "",
    "name": ""
   },
   "experiment_name": "",
   "katib_metadata": {
    "algorithm": {
     "algorithmName": "grid"
    },
    "maxFailedTrialCount": 3,
    "maxTrialCount": 12,
    "objective": {
     "objectiveMetricName": "",
     "type": "minimize"
    },
    "parallelTrialCount": 3,
    "parameters": []
   },
   "katib_run": false,
   "pipeline_description": "",
   "pipeline_name": "",
   "snapshot_volumes": false,
   "steps_defaults": [],
   "volume_access_mode": "rwm",
   "volumes": []
  },
  "language_info": {
   "codemirror_mode": {
    "name": "ipython",
    "version": 3
   },
   "file_extension": ".py",
   "mimetype": "text/x-python",
   "name": "python",
   "nbconvert_exporter": "python",
   "pygments_lexer": "ipython3",
   "version": "3.7.4"
  }
 },
 "nbformat": 4,
 "nbformat_minor": 5
}
