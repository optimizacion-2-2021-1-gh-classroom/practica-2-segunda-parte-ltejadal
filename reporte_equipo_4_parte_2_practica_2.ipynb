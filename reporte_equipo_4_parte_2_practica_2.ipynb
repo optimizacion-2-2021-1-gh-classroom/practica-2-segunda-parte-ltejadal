{
 "cells": [
  {
   "cell_type": "markdown",
   "metadata": {},
   "source": [
    "# Reporte Práctica 2, Parte 2\n",
    "*Lau, Santi, Rafa y Sebas*\n",
    "**Optimización Avanzada**\n",
    "***"
   ]
  },
  {
   "cell_type": "markdown",
   "metadata": {},
   "source": [
    "## Introducción"
   ]
  },
  {
   "cell_type": "markdown",
   "metadata": {},
   "source": [
    " En esta última parte de las prácticas desarrolladas durante el curso se reimplementan los métodos que se han desarrollado anteriormente, haciendo el código más eficiente mediante el uso de *multiprocessing*."
   ]
  },
  {
   "cell_type": "markdown",
   "metadata": {},
   "source": [
    "## Definición del Problema"
   ]
  },
  {
   "cell_type": "markdown",
   "metadata": {},
   "source": [
    " En este ocasión trabajaremos nuevamente con el dataset que contiene las ciudades de China, `ch71009.tsp` que se encuentra en el directorio `datasets` de este repositorio$^{[2]}$. Tomaremos una muestra aleatoria de $100$ ciudades y $1000$ hormigas, de esta manera podremos comprobar que se ha hecho una mejora en el tiempo de cómputo en el algoritmo."
   ]
  },
  {
   "cell_type": "markdown",
   "metadata": {
    "tags": []
   },
   "source": [
    "## Perfilamiento"
   ]
  },
  {
   "cell_type": "markdown",
   "metadata": {
    "tags": []
   },
   "source": [
    " La reimplementación desarrollada se hizo sobre la clase `colony` a una versión que utiliza multiprocesamiento, que se apoya de la librería `multiprocessing` que revisamos en el libro del curso $^{[1]}$ sobre el cómputo en paralelo."
   ]
  },
  {
   "cell_type": "markdown",
   "metadata": {
    "tags": []
   },
   "source": [
    " De los métodos que se desarrollaron anteriormente, notemos que el método `solve_tsp` es el que toma más tiempo durante su ejecución, por lo que en esta práctica se implementó la siguiente solución:\n",
    " \n",
    " - Se envía un número determinado de hormigas a un *pool* de workers, donde para cada iteración, las hormigas van a recorrer el grafo para buscar una solución.\n",
    " - En cada iteración se actualiza el número de feromonas del grafo según los recorridos determinados por cada una de las hormigas del punto anterior."
   ]
  },
  {
   "cell_type": "markdown",
   "metadata": {},
   "source": [
    "## Implementación con `ant_colony`"
   ]
  },
  {
   "cell_type": "code",
   "execution_count": 20,
   "metadata": {},
   "outputs": [],
   "source": [
    "#!pip install \"git+https://github.com/optimizacion-2-2021-1-gh-classroom/practica-1-segunda-parte-ltejadal.git#egg=ant-colony&subdirectory=src\" &> /dev/null"
   ]
  },
  {
   "cell_type": "code",
   "execution_count": 26,
   "metadata": {},
   "outputs": [],
   "source": [
    "# librerias\n",
    "import ant_colony as ac\n",
    "import time"
   ]
  },
  {
   "cell_type": "code",
   "execution_count": 41,
   "metadata": {},
   "outputs": [
    {
     "name": "stdout",
     "output_type": "stream",
     "text": [
      "Problem with 71009 cities. Selected 100.\n"
     ]
    }
   ],
   "source": [
    "path_china = 'datasets/ch71009.tsp'\n",
    "G = ac.read_coord_data(path_china, n_cities=100, seed=1999)"
   ]
  },
  {
   "cell_type": "markdown",
   "metadata": {
    "tags": []
   },
   "source": [
    " Primero echemos un vistazo a las características de la máquina en la que se ejecuta este reporte:"
   ]
  },
  {
   "cell_type": "code",
   "execution_count": 42,
   "metadata": {},
   "outputs": [
    {
     "name": "stdout",
     "output_type": "stream",
     "text": [
      "Architecture:        x86_64\n",
      "CPU op-mode(s):      32-bit, 64-bit\n",
      "Byte Order:          Little Endian\n",
      "CPU(s):              4\n",
      "On-line CPU(s) list: 0-3\n",
      "Thread(s) per core:  2\n",
      "Core(s) per socket:  2\n",
      "Socket(s):           1\n",
      "NUMA node(s):        1\n",
      "Vendor ID:           GenuineIntel\n",
      "CPU family:          6\n",
      "Model:               85\n",
      "Model name:          Intel(R) Xeon(R) Platinum 8259CL CPU @ 2.50GHz\n",
      "Stepping:            7\n",
      "CPU MHz:             3099.932\n",
      "BogoMIPS:            4999.99\n",
      "Hypervisor vendor:   KVM\n",
      "Virtualization type: full\n",
      "L1d cache:           32K\n",
      "L1i cache:           32K\n",
      "L2 cache:            1024K\n",
      "L3 cache:            36608K\n",
      "NUMA node0 CPU(s):   0-3\n",
      "Flags:               fpu vme de pse tsc msr pae mce cx8 apic sep mtrr pge mca cmov pat pse36 clflush mmx fxsr sse sse2 ss ht syscall nx pdpe1gb rdtscp lm constant_tsc rep_good nopl xtopology nonstop_tsc cpuid aperfmperf tsc_known_freq pni pclmulqdq ssse3 fma cx16 pcid sse4_1 sse4_2 x2apic movbe popcnt tsc_deadline_timer aes xsave avx f16c rdrand hypervisor lahf_lm abm 3dnowprefetch invpcid_single pti fsgsbase tsc_adjust bmi1 avx2 smep bmi2 erms invpcid mpx avx512f avx512dq rdseed adx smap clflushopt clwb avx512cd avx512bw avx512vl xsaveopt xsavec xgetbv1 xsaves ida arat pku ospke\n"
     ]
    }
   ],
   "source": [
    "!lscpu"
   ]
  },
  {
   "cell_type": "code",
   "execution_count": 43,
   "metadata": {},
   "outputs": [],
   "source": [
    "n_ants = 1000"
   ]
  },
  {
   "cell_type": "markdown",
   "metadata": {
    "tags": []
   },
   "source": [
    "Vamos a medir el tiempo de ejecución con la clase anterior y compararla contra la nueva."
   ]
  },
  {
   "cell_type": "code",
   "execution_count": 44,
   "metadata": {},
   "outputs": [],
   "source": [
    "colony_old = ac.colony(G, init_node=0,  n_ants=n_ants)"
   ]
  },
  {
   "cell_type": "code",
   "execution_count": 45,
   "metadata": {},
   "outputs": [],
   "source": [
    "start_time = time.time()\n",
    "colony_old.solve_tsp()\n",
    "end_time = time.time()"
   ]
  },
  {
   "cell_type": "code",
   "execution_count": 46,
   "metadata": {},
   "outputs": [
    {
     "name": "stdout",
     "output_type": "stream",
     "text": [
      "La solucion sin pool tomó 2699.3665103912354 segundos.\n",
      "Distancia 1119.0648040721273 kms.\n"
     ]
    }
   ],
   "source": [
    "secs = end_time-start_time\n",
    "print(\"La solucion sin pool tomó\", secs, \"segundos.\" )\n",
    "print(f\"Distancia {colony_old.best_dist} kms.\")"
   ]
  },
  {
   "cell_type": "markdown",
   "metadata": {
    "tags": []
   },
   "source": [
    "## Implementación con `colony_mutiw`"
   ]
  },
  {
   "cell_type": "code",
   "execution_count": 47,
   "metadata": {},
   "outputs": [],
   "source": [
    "colony_mw = ac.colony_multiw(G, init_node=0,  n_ants= n_ants, n_workers=4)"
   ]
  },
  {
   "cell_type": "code",
   "execution_count": 48,
   "metadata": {},
   "outputs": [],
   "source": [
    "start_time = time.time()\n",
    "colony_mw.solve_tsp()\n",
    "end_time = time.time()"
   ]
  },
  {
   "cell_type": "code",
   "execution_count": 49,
   "metadata": {},
   "outputs": [
    {
     "name": "stdout",
     "output_type": "stream",
     "text": [
      "La solucion con pool de workers tomó 452.3769097328186 segundos.\n",
      "Distancia 1119.0648040721273 kms.\n"
     ]
    }
   ],
   "source": [
    "secs = end_time-start_time\n",
    "print(\"La solucion con pool de workers tomó\", secs, \"segundos.\" )\n",
    "print(f\"Distancia {colony_mw.best_dist} kms.\")"
   ]
  },
  {
   "cell_type": "markdown",
   "metadata": {
    "tags": []
   },
   "source": [
    "El tiempo de ejecución se ha reducido casi 6 veces respecto a la clase que habíamos definido anteriormente."
   ]
  },
  {
   "cell_type": "markdown",
   "metadata": {},
   "source": [
    "## Conclusión"
   ]
  },
  {
   "cell_type": "markdown",
   "metadata": {},
   "source": [
    " Notemos que en ambos casos la distancia se mantiene fija, pero el tiempo de ejecución se ha reducido sustancialmente. Con esta nueva implementación en la que se utiliza cómputo en paralelo el tiempo de cómputo se redujo aproximadamente 6 veces, consiguiendo el objetivo de optimización del algoritmo."
   ]
  },
  {
   "cell_type": "markdown",
   "metadata": {},
   "source": [
    "## Referencias"
   ]
  },
  {
   "cell_type": "markdown",
   "metadata": {},
   "source": [
    "1. [Cómputo en paralelo usando CPUs en un sistema de memoria compartida (SMC)](https://itam-ds.github.io/analisis-numerico-computo-cientifico/V.optimizacion_de_codigo/5.4/Computo_en_paralelo_usando_CPUS_en_SMC.html#multiprocessing) (2021) Erick Palacios\n",
    "2. [National Travelling Salesman Problems](https://www.math.uwaterloo.ca/tsp/world/countries.html) (2017) University of Waterloo"
   ]
  }
 ],
 "metadata": {
  "kernelspec": {
   "display_name": "Python 3",
   "language": "python",
   "name": "python3"
  },
  "kubeflow_notebook": {
   "autosnapshot": false,
   "docker_image": "",
   "experiment": {
    "id": "",
    "name": ""
   },
   "experiment_name": "",
   "katib_metadata": {
    "algorithm": {
     "algorithmName": "grid"
    },
    "maxFailedTrialCount": 3,
    "maxTrialCount": 12,
    "objective": {
     "objectiveMetricName": "",
     "type": "minimize"
    },
    "parallelTrialCount": 3,
    "parameters": []
   },
   "katib_run": false,
   "pipeline_description": "",
   "pipeline_name": "",
   "snapshot_volumes": false,
   "steps_defaults": [],
   "volume_access_mode": "rwm",
   "volumes": []
  },
  "language_info": {
   "codemirror_mode": {
    "name": "ipython",
    "version": 3
   },
   "file_extension": ".py",
   "mimetype": "text/x-python",
   "name": "python",
   "nbconvert_exporter": "python",
   "pygments_lexer": "ipython3",
   "version": "3.6.9"
  }
 },
 "nbformat": 4,
 "nbformat_minor": 5
}
