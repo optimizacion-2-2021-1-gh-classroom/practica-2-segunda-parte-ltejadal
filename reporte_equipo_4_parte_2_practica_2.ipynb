{
 "cells": [
  {
   "cell_type": "markdown",
   "id": "israeli-south",
   "metadata": {},
   "source": [
    "# Reporte Práctica 2, Parte 2\n",
    "*Lau, Santi, Rafa y Sebas*\n",
    "**Optimización Avanzada**\n",
    "***"
   ]
  },
  {
   "cell_type": "markdown",
   "id": "caring-manner",
   "metadata": {},
   "source": [
    "## Introducción"
   ]
  },
  {
   "cell_type": "markdown",
   "id": "educated-spectrum",
   "metadata": {},
   "source": [
    " En esta última parte de las prácticas desarrolladas durante el curso se reimplementan los métodos que se han desarrollado anteriormente, haciendo el código más eficiente mediante el uso de *multiprocessing*."
   ]
  },
  {
   "cell_type": "markdown",
   "id": "future-approach",
   "metadata": {},
   "source": [
    "## Dataset"
   ]
  },
  {
   "cell_type": "markdown",
   "id": "sunset-bankruptcy",
   "metadata": {},
   "source": [
    " En este ocasión trabajaremos nuevamente con el dataset que contiene las ciudades de China, `ch71009.tsp` que se encuentra en el directorio `datasets` de este repositorio$^{[2]}$. Tomaremos una muestra aleatoria de 30 ciudades."
   ]
  },
  {
   "cell_type": "markdown",
   "id": "minute-measure",
   "metadata": {},
   "source": [
    "## Reimplementación: Multiprocessing"
   ]
  },
  {
   "cell_type": "markdown",
   "id": "foreign-mortality",
   "metadata": {},
   "source": [
    " La reimplementación desarrollada se hizo sobre la clase `colony` a una versión que utiliza multiprocesamiento, que se apoya de la librería `multiprocessing` que revisamos en el libro del curso $^{[1]}$ sobre el cómputo en paralelo."
   ]
  },
  {
   "cell_type": "markdown",
   "id": "worse-proxy",
   "metadata": {},
   "source": [
    " De los métodos que se desarrollaron anteriormente, notemos que el método `solve_tsp` es el que toma más tiempo durante su ejecución, por lo que en esta práctica se implementa la siguiente solución:\n",
    " \n",
    " - Se envía un número determinado de hormigas a un *pool* de workers, donde para cada iteración, las hormigas van a recorrer el grafo para buscar una solución.\n",
    " - En cada iteración se actualiza el número de feromonas del grafo según los recorridos determinados por cada una de las hormigas del punto anterior."
   ]
  },
  {
   "cell_type": "markdown",
   "id": "instrumental-rates",
   "metadata": {},
   "source": []
  },
  {
   "cell_type": "code",
   "execution_count": null,
   "id": "jewish-graphic",
   "metadata": {},
   "outputs": [],
   "source": [
    "# librerias\n",
    "import random\n",
    "import time\n",
    "import tsplib95\n",
    "import numpy as np\n",
    "import networkx as nx\n",
    "import matplotlib.pyplot as plt\n",
    "from utils import *\n",
    "from aco_tsp_oo import *\n",
    "from multiprocessing import cpu_count\n",
    "from multiprocessing import Pool"
   ]
  },
  {
   "cell_type": "code",
   "execution_count": null,
   "id": "iraqi-soviet",
   "metadata": {},
   "outputs": [],
   "source": [
    "path_china = 'datasets/ch71009.tsp'\n",
    "G = read_coord_data(path_china, n_cities=30, seed=1999)"
   ]
  },
  {
   "cell_type": "markdown",
   "id": "found-bleeding",
   "metadata": {},
   "source": [
    "### Separación por workers"
   ]
  },
  {
   "cell_type": "markdown",
   "id": "civil-attachment",
   "metadata": {},
   "source": [
    " Se implementa la función `assign_snts_threats`, que define cuál número de hormigas se deberán de asignar a cada *worker*, de esta manera podemos distribuir los trabajos por worker. La asignación del número de hormigas será distribuirá uniformemente entre todos los workers, y en caso de que el total de hormigas no sea un múltiplo del número de workers se asignará el módulo restante de manera equitativa entre el resto de los *workers*."
   ]
  },
  {
   "cell_type": "markdown",
   "id": "suitable-bradford",
   "metadata": {},
   "source": [
    " La función definirá por defecto el número de *workers* igual al número de CPUs disponibles, aunque se puede modificar este parámetro asignando un valor a `n_cpu` en la siguiente función:"
   ]
  },
  {
   "cell_type": "code",
   "execution_count": null,
   "id": "cosmetic-thomson",
   "metadata": {},
   "outputs": [],
   "source": []
  },
  {
   "cell_type": "code",
   "execution_count": null,
   "id": "legal-english",
   "metadata": {},
   "outputs": [],
   "source": []
  },
  {
   "cell_type": "markdown",
   "id": "incomplete-hybrid",
   "metadata": {},
   "source": [
    "## Ejemplo"
   ]
  },
  {
   "cell_type": "markdown",
   "id": "reverse-junior",
   "metadata": {},
   "source": []
  },
  {
   "cell_type": "markdown",
   "id": "sweet-addiction",
   "metadata": {},
   "source": [
    "## Conclusión"
   ]
  },
  {
   "cell_type": "markdown",
   "id": "coordinate-monitoring",
   "metadata": {},
   "source": []
  },
  {
   "cell_type": "markdown",
   "id": "cardiovascular-columbus",
   "metadata": {},
   "source": [
    "## Referencias"
   ]
  },
  {
   "cell_type": "markdown",
   "id": "exempt-bernard",
   "metadata": {},
   "source": [
    "1. [Cómputo en paralelo usando CPUs en un sistema de memoria compartida (SMC)](https://itam-ds.github.io/analisis-numerico-computo-cientifico/V.optimizacion_de_codigo/5.4/Computo_en_paralelo_usando_CPUS_en_SMC.html#multiprocessing) (2021) Erick Palacios\n",
    "2. [National Travelling Salesman Problems](https://www.math.uwaterloo.ca/tsp/world/countries.html) (2017) University of Waterloo"
   ]
  }
 ],
 "metadata": {
  "kernelspec": {
   "display_name": "Python 3",
   "language": "python",
   "name": "python3"
  },
  "language_info": {
   "codemirror_mode": {
    "name": "ipython",
    "version": 3
   },
   "file_extension": ".py",
   "mimetype": "text/x-python",
   "name": "python",
   "nbconvert_exporter": "python",
   "pygments_lexer": "ipython3",
   "version": "3.7.4"
  }
 },
 "nbformat": 4,
 "nbformat_minor": 5
}
