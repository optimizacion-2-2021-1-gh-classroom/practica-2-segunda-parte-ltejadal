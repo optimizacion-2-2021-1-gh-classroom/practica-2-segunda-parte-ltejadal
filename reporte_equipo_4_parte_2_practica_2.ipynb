{
 "cells": [
  {
   "cell_type": "markdown",
   "metadata": {},
   "source": [
    "# Reporte Práctica 2, Parte 2\n",
    "*Lau, Santi, Rafa y Sebas*\n",
    "**Optimización Avanzada**\n",
    "***"
   ]
  },
  {
   "cell_type": "markdown",
   "metadata": {},
   "source": [
    "## Introducción"
   ]
  },
  {
   "cell_type": "markdown",
   "metadata": {},
   "source": [
    " En esta última parte de las prácticas desarrolladas durante el curso se reimplementan los métodos que se han desarrollado anteriormente, haciendo el código más eficiente mediante el uso de *multiprocessing*."
   ]
  },
  {
   "cell_type": "markdown",
   "metadata": {},
   "source": [
    "## Definición del Problema"
   ]
  },
  {
   "cell_type": "markdown",
   "metadata": {},
   "source": [
    " En este ocasión trabajaremos nuevamente con el dataset que contiene las ciudades de China, `ch71009.tsp` que se encuentra en el directorio `datasets` de este repositorio$^{[2]}$. Tomaremos una muestra aleatoria de $100$ ciudades y $1000$ hormigas, de esta manera podremos comprobar que se ha hecho una mejora en el tiempo de cómputo en el algoritmo."
   ]
  },
  {
   "cell_type": "markdown",
   "metadata": {
    "tags": []
   },
   "source": [
    "## Perfilamiento"
   ]
  },
  {
   "cell_type": "markdown",
   "metadata": {
    "tags": []
   },
   "source": [
    " La reimplementación desarrollada se hizo sobre la clase `colony` a una versión que utiliza multiprocesamiento, que se apoya de la librería `multiprocessing` que revisamos en el libro del curso $^{[1]}$ sobre el cómputo en paralelo."
   ]
  },
  {
   "cell_type": "markdown",
   "metadata": {
    "tags": []
   },
   "source": [
    " De los métodos que se desarrollaron anteriormente, notemos que el método `solve_tsp` es el que toma más tiempo durante su ejecución, por lo que en esta práctica se implementó la siguiente solución:\n",
    " \n",
    " - Se envía un número determinado de hormigas a un *pool* de workers, donde para cada iteración, las hormigas van a recorrer el grafo para buscar una solución.\n",
    " - En cada iteración se actualiza el número de feromonas del grafo según los recorridos determinados por cada una de las hormigas del punto anterior."
   ]
  },
  {
   "cell_type": "code",
   "execution_count": 52,
   "metadata": {},
   "outputs": [
    {
     "name": "stdout",
     "output_type": "stream",
     "text": [
      "Collecting memory_profiler\n",
      "  Downloading memory_profiler-0.58.0.tar.gz (36 kB)\n",
      "Collecting psutil\n",
      "  Downloading psutil-5.8.0-cp36-cp36m-manylinux2010_x86_64.whl (291 kB)\n",
      "\u001b[K     |████████████████████████████████| 291 kB 44.6 MB/s eta 0:00:01\n",
      "\u001b[?25hBuilding wheels for collected packages: memory-profiler\n",
      "  Building wheel for memory-profiler (setup.py) ... \u001b[?25ldone\n",
      "\u001b[?25h  Created wheel for memory-profiler: filename=memory_profiler-0.58.0-py3-none-any.whl size=36588 sha256=62c592798a6aeabb66577a0e387675d5b8b5f37bcc815466badcfea82e2b8956\n",
      "  Stored in directory: /root/.cache/pip/wheels/8c/47/b0/6aa7f5774be599d4f5256b58061f8264dd0ec24bb9de56f568\n",
      "Successfully built memory-profiler\n",
      "Installing collected packages: psutil, memory-profiler\n",
      "Successfully installed memory-profiler-0.58.0 psutil-5.8.0\n",
      "\u001b[33mWARNING: Running pip as root will break packages and permissions. You should install packages reliably by using venv: https://pip.pypa.io/warnings/venv\u001b[0m\n"
     ]
    }
   ],
   "source": [
    "!pip install memory_profiler"
   ]
  },
  {
   "cell_type": "code",
   "execution_count": 53,
   "metadata": {},
   "outputs": [],
   "source": [
    "import timeit\n",
    "import cProfile\n",
    "import pstats\n",
    "import memory_profiler\n",
    "from memory_profiler import memory_usage\n",
    "import line_profiler"
   ]
  },
  {
   "cell_type": "markdown",
   "metadata": {
    "tags": []
   },
   "source": [
    " Primero echemos un vistazo a las características de la máquina en la que se ejecuta este reporte:"
   ]
  },
  {
   "cell_type": "code",
   "execution_count": 42,
   "metadata": {},
   "outputs": [
    {
     "name": "stdout",
     "output_type": "stream",
     "text": [
      "Architecture:        x86_64\n",
      "CPU op-mode(s):      32-bit, 64-bit\n",
      "Byte Order:          Little Endian\n",
      "CPU(s):              4\n",
      "On-line CPU(s) list: 0-3\n",
      "Thread(s) per core:  2\n",
      "Core(s) per socket:  2\n",
      "Socket(s):           1\n",
      "NUMA node(s):        1\n",
      "Vendor ID:           GenuineIntel\n",
      "CPU family:          6\n",
      "Model:               85\n",
      "Model name:          Intel(R) Xeon(R) Platinum 8259CL CPU @ 2.50GHz\n",
      "Stepping:            7\n",
      "CPU MHz:             3099.932\n",
      "BogoMIPS:            4999.99\n",
      "Hypervisor vendor:   KVM\n",
      "Virtualization type: full\n",
      "L1d cache:           32K\n",
      "L1i cache:           32K\n",
      "L2 cache:            1024K\n",
      "L3 cache:            36608K\n",
      "NUMA node0 CPU(s):   0-3\n",
      "Flags:               fpu vme de pse tsc msr pae mce cx8 apic sep mtrr pge mca cmov pat pse36 clflush mmx fxsr sse sse2 ss ht syscall nx pdpe1gb rdtscp lm constant_tsc rep_good nopl xtopology nonstop_tsc cpuid aperfmperf tsc_known_freq pni pclmulqdq ssse3 fma cx16 pcid sse4_1 sse4_2 x2apic movbe popcnt tsc_deadline_timer aes xsave avx f16c rdrand hypervisor lahf_lm abm 3dnowprefetch invpcid_single pti fsgsbase tsc_adjust bmi1 avx2 smep bmi2 erms invpcid mpx avx512f avx512dq rdseed adx smap clflushopt clwb avx512cd avx512bw avx512vl xsaveopt xsavec xgetbv1 xsaves ida arat pku ospke\n"
     ]
    }
   ],
   "source": [
    "!lscpu"
   ]
  },
  {
   "cell_type": "markdown",
   "metadata": {
    "tags": []
   },
   "source": [
    "Veremos el perfilamiento de tiempos de ejecución:"
   ]
  },
  {
   "cell_type": "code",
   "execution_count": null,
   "metadata": {},
   "outputs": [],
   "source": []
  },
  {
   "cell_type": "code",
   "execution_count": null,
   "metadata": {},
   "outputs": [],
   "source": []
  },
  {
   "cell_type": "markdown",
   "metadata": {},
   "source": [
    "## Implementación con `ant_colony`"
   ]
  },
  {
   "cell_type": "code",
   "execution_count": 20,
   "metadata": {},
   "outputs": [],
   "source": [
    "#!pip install \"git+https://github.com/optimizacion-2-2021-1-gh-classroom/practica-1-segunda-parte-ltejadal.git#egg=ant-colony&subdirectory=src\" &> /dev/null"
   ]
  },
  {
   "cell_type": "code",
   "execution_count": 26,
   "metadata": {},
   "outputs": [],
   "source": [
    "# librerias\n",
    "import ant_colony as ac\n",
    "import time"
   ]
  },
  {
   "cell_type": "code",
   "execution_count": 41,
   "metadata": {},
   "outputs": [
    {
     "name": "stdout",
     "output_type": "stream",
     "text": [
      "Problem with 71009 cities. Selected 100.\n"
     ]
    }
   ],
   "source": [
    "path_china = 'datasets/ch71009.tsp'\n",
    "G = ac.read_coord_data(path_china, n_cities=100, seed=1999)"
   ]
  },
  {
   "cell_type": "code",
   "execution_count": 43,
   "metadata": {},
   "outputs": [],
   "source": [
    "n_ants = 1000"
   ]
  },
  {
   "cell_type": "markdown",
   "metadata": {
    "tags": []
   },
   "source": [
    "Vamos a medir el tiempo de ejecución con la clase anterior y compararla contra la nueva."
   ]
  },
  {
   "cell_type": "code",
   "execution_count": 44,
   "metadata": {},
   "outputs": [],
   "source": [
    "colony_old = ac.colony(G, init_node=0,  n_ants=n_ants)"
   ]
  },
  {
   "cell_type": "code",
   "execution_count": 45,
   "metadata": {},
   "outputs": [],
   "source": [
    "start_time = time.time()\n",
    "colony_old.solve_tsp()\n",
    "end_time = time.time()"
   ]
  },
  {
   "cell_type": "code",
   "execution_count": 46,
   "metadata": {},
   "outputs": [
    {
     "name": "stdout",
     "output_type": "stream",
     "text": [
      "La solucion sin pool tomó 2699.3665103912354 segundos.\n",
      "Distancia 1119.0648040721273 kms.\n"
     ]
    }
   ],
   "source": [
    "secs = end_time-start_time\n",
    "print(\"La solucion sin pool tomó\", secs, \"segundos.\" )\n",
    "print(f\"Distancia {colony_old.best_dist} kms.\")"
   ]
  },
  {
   "cell_type": "markdown",
   "metadata": {
    "tags": []
   },
   "source": [
    "Ahora veremos con `cProfile` las partes del método que tardan más en su ejecución:"
   ]
  },
  {
   "cell_type": "code",
   "execution_count": 56,
   "metadata": {},
   "outputs": [
    {
     "name": "stdout",
     "output_type": "stream",
     "text": [
      "         3203921846 function calls (3203921746 primitive calls) in 3636.850 seconds\n",
      "\n",
      "   Ordered by: cumulative time\n",
      "\n",
      "   ncalls  tottime  percall  cumtime  percall filename:lineno(function)\n",
      "        2    0.000    0.000 3636.850 1818.425 interactiveshell.py:3288(run_code)\n",
      "        2    0.000    0.000 3636.850 1818.425 {built-in method builtins.exec}\n",
      "        1    0.000    0.000 3636.850 3636.850 <ipython-input-56-fdb53b4ac090>:3(<module>)\n",
      "        1    0.111    0.111 3636.850 3636.850 aco_tsp_oo.py:278(solve_tsp)\n",
      "      100  115.680    1.157 3634.949   36.349 aco_tsp_oo.py:247(_colony_run)\n",
      "   100000  245.426    0.002 3519.218    0.035 aco_tsp_oo.py:317(walk_over_graph)\n",
      "   100000  693.978    0.007 3031.069    0.030 utils.py:70(create_dic_dist_from_graph)\n",
      "1010100000 1205.066    0.000 1475.698    0.000 defmatrix.py:189(__getitem__)\n",
      "   100000    1.966    0.000  860.889    0.009 convert_matrix.py:442(to_numpy_matrix)\n",
      "   100000  615.408    0.006  853.594    0.009 convert_matrix.py:1093(to_numpy_array)\n",
      "1030300000  246.654    0.000  246.654    0.000 {built-in method builtins.isinstance}\n",
      "990000000  230.552    0.000  230.552    0.000 {method 'get' of 'dict' objects}\n",
      "  9900000   89.755    0.000  120.099    0.000 random.py:343(choices)\n",
      "  9900000   95.939    0.000   95.939    0.000 aco_tsp_oo.py:341(<listcomp>)\n",
      "  9900000   15.294    0.000   25.934    0.000 random.py:364(<listcomp>)\n",
      " 20100000   16.903    0.000   20.738    0.000 defmatrix.py:167(__array_finalize__)\n",
      "70300400/70300300   17.289    0.000   17.289    0.000 {built-in method builtins.len}\n",
      "  9910000    8.096    0.000   11.693    0.000 graph.py:1199(neighbors)\n",
      "  9900000    8.352    0.000    8.352    0.000 {built-in method _bisect.bisect}\n",
      "   100000    5.585    0.000    5.585    0.000 aco_tsp_oo.py:346(<listcomp>)\n",
      "   100000    0.844    0.000    5.329    0.000 defmatrix.py:36(asmatrix)\n",
      "   100000    0.909    0.000    4.677    0.000 numeric.py:268(full)\n",
      "   100000    1.305    0.000    4.484    0.000 defmatrix.py:115(__new__)\n",
      " 10310100    4.007    0.000    4.007    0.000 {built-in method builtins.iter}\n",
      "   100000    0.322    0.000    2.964    0.000 <__array_function__ internals>:2(copyto)\n",
      "   100000    2.556    0.000    2.556    0.000 {built-in method numpy.core._multiarray_umath.implement_array_function}\n",
      "   100000    2.354    0.000    2.354    0.000 {built-in method builtins.sum}\n",
      "  9900000    2.289    0.000    2.289    0.000 {method 'random' of '_random.Random' objects}\n",
      "   100000    2.139    0.000    2.139    0.000 {built-in method _warnings.warn}\n",
      " 10100000    1.776    0.000    1.776    0.000 {method 'items' of 'dict' objects}\n",
      "      100    1.575    0.016    1.581    0.016 utils.py:135(atraccion_nodos)\n",
      "   200200    1.008    0.000    1.443    0.000 graph.py:656(nodes)\n",
      "   100000    0.556    0.000    0.978    0.000 {method 'view' of 'numpy.ndarray' objects}\n",
      "   200000    0.770    0.000    0.770    0.000 {built-in method numpy.array}\n",
      "   200100    0.337    0.000    0.587    0.000 reportviews.py:183(__iter__)\n",
      "   200200    0.435    0.000    0.435    0.000 reportviews.py:176(__init__)\n",
      "   100000    0.119    0.000    0.422    0.000 _asarray.py:14(asarray)\n",
      "   100000    0.233    0.000    0.409    0.000 graph.py:1345(adjacency)\n",
      "   100000    0.339    0.000    0.339    0.000 {built-in method numpy.empty}\n",
      "   200200    0.310    0.000    0.337    0.000 reportviews.py:180(__len__)\n",
      "       98    0.209    0.002    0.209    0.002 aco_tsp_oo.py:239(_evaporates_pheromone)\n",
      "   100000    0.099    0.000    0.107    0.000 graph.py:420(__len__)\n",
      "   100000    0.086    0.000    0.086    0.000 multiarray.py:1043(copyto)\n",
      "   100000    0.080    0.000    0.080    0.000 graph.py:1439(is_multigraph)\n",
      "   100000    0.063    0.000    0.077    0.000 graph.py:388(__iter__)\n",
      "   200000    0.046    0.000    0.046    0.000 {method 'append' of 'list' objects}\n",
      "   100000    0.030    0.000    0.030    0.000 graph.py:1443(is_directed)\n",
      "      100    0.003    0.000    0.003    0.000 {built-in method builtins.min}\n",
      "      100    0.000    0.000    0.001    0.000 aco_tsp_oo.py:225(_update_many_pheromone_levels)\n",
      "      100    0.001    0.000    0.001    0.000 {method 'index' of 'list' objects}\n",
      "        2    0.000    0.000    0.000    0.000 codeop.py:132(__call__)\n",
      "        2    0.000    0.000    0.000    0.000 {built-in method builtins.compile}\n",
      "        2    0.000    0.000    0.000    0.000 contextlib.py:157(helper)\n",
      "        2    0.000    0.000    0.000    0.000 contextlib.py:59(__init__)\n",
      "        4    0.000    0.000    0.000    0.000 {built-in method builtins.next}\n",
      "        4    0.000    0.000    0.000    0.000 {built-in method builtins.getattr}\n",
      "        2    0.000    0.000    0.000    0.000 contextlib.py:79(__enter__)\n",
      "        4    0.000    0.000    0.000    0.000 compilerop.py:138(extra_flags)\n",
      "        2    0.000    0.000    0.000    0.000 hooks.py:142(__call__)\n",
      "        2    0.000    0.000    0.000    0.000 contextlib.py:85(__exit__)\n",
      "        1    0.000    0.000    0.000    0.000 <ipython-input-56-fdb53b4ac090>:4(<module>)\n",
      "        2    0.000    0.000    0.000    0.000 interactiveshell.py:117(<lambda>)\n",
      "        2    0.000    0.000    0.000    0.000 ipstruct.py:125(__getattr__)\n",
      "        2    0.000    0.000    0.000    0.000 traitlets.py:545(__get__)\n",
      "        2    0.000    0.000    0.000    0.000 interactiveshell.py:1272(user_global_ns)\n",
      "        2    0.000    0.000    0.000    0.000 traitlets.py:526(get)\n",
      "        1    0.000    0.000    0.000    0.000 {method 'disable' of '_lsprof.Profiler' objects}\n",
      "        2    0.000    0.000    0.000    0.000 hooks.py:207(pre_run_code_hook)\n",
      "        2    0.000    0.000    0.000    0.000 interactiveshell.py:3230(compare)\n",
      "\n",
      "\n"
     ]
    }
   ],
   "source": [
    "cprof = cProfile.Profile()\n",
    "cprof.enable()\n",
    "res =  colony_old.solve_tsp()\n",
    "cprof.disable()\n",
    "cprof.print_stats(sort='cumtime')"
   ]
  },
  {
   "cell_type": "code",
   "execution_count": 57,
   "metadata": {},
   "outputs": [],
   "source": [
    "cprof.dump_stats(\"solve_tsp_stats\")"
   ]
  },
  {
   "cell_type": "code",
   "execution_count": 58,
   "metadata": {},
   "outputs": [
    {
     "name": "stdout",
     "output_type": "stream",
     "text": [
      "Sun May  9 17:10:50 2021    solve_tsp_stats\n",
      "\n",
      "         3203921846 function calls (3203921746 primitive calls) in 3636.850 seconds\n",
      "\n",
      "   Ordered by: cumulative time\n",
      "   List reduced from 69 to 10 due to restriction <10>\n",
      "\n",
      "   ncalls  tottime  percall  cumtime  percall filename:lineno(function)\n",
      "        2    0.000    0.000 3636.850 1818.425 /usr/local/lib/python3.6/dist-packages/IPython/core/interactiveshell.py:3288(run_code)\n",
      "        2    0.000    0.000 3636.850 1818.425 {built-in method builtins.exec}\n",
      "        1    0.000    0.000 3636.850 3636.850 <ipython-input-56-fdb53b4ac090>:3(<module>)\n",
      "        1    0.111    0.111 3636.850 3636.850 /usr/local/lib/python3.6/dist-packages/ant_colony/aco_tsp_oo.py:278(solve_tsp)\n",
      "      100  115.680    1.157 3634.949   36.349 /usr/local/lib/python3.6/dist-packages/ant_colony/aco_tsp_oo.py:247(_colony_run)\n",
      "   100000  245.426    0.002 3519.218    0.035 /usr/local/lib/python3.6/dist-packages/ant_colony/aco_tsp_oo.py:317(walk_over_graph)\n",
      "   100000  693.978    0.007 3031.069    0.030 /usr/local/lib/python3.6/dist-packages/ant_colony/utils.py:70(create_dic_dist_from_graph)\n",
      "1010100000 1205.066    0.000 1475.698    0.000 /usr/local/lib/python3.6/dist-packages/numpy/matrixlib/defmatrix.py:189(__getitem__)\n",
      "   100000    1.966    0.000  860.889    0.009 /usr/local/lib/python3.6/dist-packages/networkx/convert_matrix.py:442(to_numpy_matrix)\n",
      "   100000  615.408    0.006  853.594    0.009 /usr/local/lib/python3.6/dist-packages/networkx/convert_matrix.py:1093(to_numpy_array)\n",
      "\n",
      "\n",
      "<pstats.Stats object at 0x7efe5e04f898>\n"
     ]
    }
   ],
   "source": [
    "p_solve_tsp_stats = pstats.Stats(\"solve_tsp_stats\")\n",
    "print(p_solve_tsp_stats.sort_stats(\"cumulative\").print_stats(10))"
   ]
  },
  {
   "cell_type": "markdown",
   "metadata": {
    "tags": []
   },
   "source": [
    " Las que más se tardan en su ejecución son:\n",
    " \n",
    " - Métodos de `ant_colony`:\n",
    "     - `walk_over_graph`\n",
    "     - `create_dict_dist_from_graph`\n",
    " - Método de `numpy`:    \n",
    "     - `get_item`\n",
    " - Método de `networkx`:\n",
    "     - `convert_matrix`\n",
    "     \n",
    " Nos concentramos en perfilar los métodos de `ant_colony` que más se tardan, ya que nuestro objetivo es mejorar la implementación del algoritmo."
   ]
  },
  {
   "cell_type": "markdown",
   "metadata": {
    "tags": []
   },
   "source": [
    "## Implementación con `colony_mutiw`"
   ]
  },
  {
   "cell_type": "code",
   "execution_count": 47,
   "metadata": {},
   "outputs": [],
   "source": [
    "colony_mw = ac.colony_multiw(G, init_node=0,  n_ants= n_ants, n_workers=4)"
   ]
  },
  {
   "cell_type": "code",
   "execution_count": 48,
   "metadata": {},
   "outputs": [],
   "source": [
    "start_time = time.time()\n",
    "colony_mw.solve_tsp()\n",
    "end_time = time.time()"
   ]
  },
  {
   "cell_type": "code",
   "execution_count": 49,
   "metadata": {},
   "outputs": [
    {
     "name": "stdout",
     "output_type": "stream",
     "text": [
      "La solucion con pool de workers tomó 452.3769097328186 segundos.\n",
      "Distancia 1119.0648040721273 kms.\n"
     ]
    }
   ],
   "source": [
    "secs = end_time-start_time\n",
    "print(\"La solucion con pool de workers tomó\", secs, \"segundos.\" )\n",
    "print(f\"Distancia {colony_mw.best_dist} kms.\")"
   ]
  },
  {
   "cell_type": "markdown",
   "metadata": {
    "tags": []
   },
   "source": [
    "El tiempo de ejecución se ha reducido casi 6 veces respecto a la clase que habíamos definido anteriormente."
   ]
  },
  {
   "cell_type": "markdown",
   "metadata": {},
   "source": [
    "## Conclusión"
   ]
  },
  {
   "cell_type": "markdown",
   "metadata": {},
   "source": [
    " Notemos que en ambos casos la distancia se mantiene fija, pero el tiempo de ejecución se ha reducido sustancialmente. Con esta nueva implementación en la que se utiliza cómputo en paralelo el tiempo de cómputo se redujo aproximadamente 6 veces, consiguiendo el objetivo de optimización del algoritmo."
   ]
  },
  {
   "cell_type": "markdown",
   "metadata": {},
   "source": [
    "## Referencias"
   ]
  },
  {
   "cell_type": "markdown",
   "metadata": {},
   "source": [
    "1. [Cómputo en paralelo usando CPUs en un sistema de memoria compartida (SMC)](https://itam-ds.github.io/analisis-numerico-computo-cientifico/V.optimizacion_de_codigo/5.4/Computo_en_paralelo_usando_CPUS_en_SMC.html#multiprocessing) (2021) Erick Palacios\n",
    "2. [National Travelling Salesman Problems](https://www.math.uwaterloo.ca/tsp/world/countries.html) (2017) University of Waterloo"
   ]
  }
 ],
 "metadata": {
  "kernelspec": {
   "display_name": "Python 3",
   "language": "python",
   "name": "python3"
  },
  "kubeflow_notebook": {
   "autosnapshot": false,
   "docker_image": "",
   "experiment": {
    "id": "",
    "name": ""
   },
   "experiment_name": "",
   "katib_metadata": {
    "algorithm": {
     "algorithmName": "grid"
    },
    "maxFailedTrialCount": 3,
    "maxTrialCount": 12,
    "objective": {
     "objectiveMetricName": "",
     "type": "minimize"
    },
    "parallelTrialCount": 3,
    "parameters": []
   },
   "katib_run": false,
   "pipeline_description": "",
   "pipeline_name": "",
   "snapshot_volumes": false,
   "steps_defaults": [],
   "volume_access_mode": "rwm",
   "volumes": []
  },
  "language_info": {
   "codemirror_mode": {
    "name": "ipython",
    "version": 3
   },
   "file_extension": ".py",
   "mimetype": "text/x-python",
   "name": "python",
   "nbconvert_exporter": "python",
   "pygments_lexer": "ipython3",
   "version": "3.6.9"
  }
 },
 "nbformat": 4,
 "nbformat_minor": 5
}
