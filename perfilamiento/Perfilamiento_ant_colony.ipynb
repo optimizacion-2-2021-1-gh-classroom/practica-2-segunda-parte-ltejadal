{
 "cells": [
  {
   "cell_type": "code",
   "execution_count": 1,
   "metadata": {},
   "outputs": [],
   "source": [
    "import ant_colony\n"
   ]
  },
  {
   "cell_type": "code",
   "execution_count": 2,
   "metadata": {},
   "outputs": [],
   "source": [
    "from ant_colony.aco_tsp import *"
   ]
  },
  {
   "cell_type": "code",
   "execution_count": 3,
   "metadata": {},
   "outputs": [],
   "source": [
    "from ant_colony.utils import *\n",
    "from ant_colony.aco_tsp_oo import *"
   ]
  },
  {
   "cell_type": "code",
   "execution_count": 4,
   "metadata": {},
   "outputs": [],
   "source": [
    "# !pip install line-profiler\n",
    "# !pip install memory_profiler"
   ]
  },
  {
   "cell_type": "code",
   "execution_count": null,
   "metadata": {},
   "outputs": [],
   "source": []
  },
  {
   "cell_type": "code",
   "execution_count": 7,
   "metadata": {},
   "outputs": [],
   "source": [
    "import timeit\n",
    "import cProfile\n",
    "import pstats\n",
    "import memory_profiler\n",
    "from memory_profiler import memory_usage\n",
    "import line_profiler"
   ]
  },
  {
   "cell_type": "markdown",
   "metadata": {},
   "source": [
    "### En primer lugar, veamos las características de la máquina que se utilizará para el perfilamiento: "
   ]
  },
  {
   "cell_type": "code",
   "execution_count": 11,
   "metadata": {},
   "outputs": [
    {
     "name": "stdout",
     "output_type": "stream",
     "text": [
      "Architecture:        x86_64\n",
      "CPU op-mode(s):      32-bit, 64-bit\n",
      "Byte Order:          Little Endian\n",
      "CPU(s):              4\n",
      "On-line CPU(s) list: 0-3\n",
      "Thread(s) per core:  2\n",
      "Core(s) per socket:  2\n",
      "Socket(s):           1\n",
      "NUMA node(s):        1\n",
      "Vendor ID:           GenuineIntel\n",
      "CPU family:          6\n",
      "Model:               85\n",
      "Model name:          Intel(R) Xeon(R) Platinum 8175M CPU @ 2.50GHz\n",
      "Stepping:            4\n",
      "CPU MHz:             3099.200\n",
      "BogoMIPS:            4999.96\n",
      "Hypervisor vendor:   KVM\n",
      "Virtualization type: full\n",
      "L1d cache:           32K\n",
      "L1i cache:           32K\n",
      "L2 cache:            1024K\n",
      "L3 cache:            33792K\n",
      "NUMA node0 CPU(s):   0-3\n",
      "Flags:               fpu vme de pse tsc msr pae mce cx8 apic sep mtrr pge mca cmov pat pse36 clflush mmx fxsr sse sse2 ss ht syscall nx pdpe1gb rdtscp lm constant_tsc rep_good nopl xtopology nonstop_tsc cpuid aperfmperf tsc_known_freq pni pclmulqdq ssse3 fma cx16 pcid sse4_1 sse4_2 x2apic movbe popcnt tsc_deadline_timer aes xsave avx f16c rdrand hypervisor lahf_lm abm 3dnowprefetch invpcid_single pti fsgsbase tsc_adjust bmi1 hle avx2 smep bmi2 erms invpcid rtm mpx avx512f avx512dq rdseed adx smap clflushopt clwb avx512cd avx512bw avx512vl xsaveopt xsavec xgetbv1 xsaves ida arat pku ospke\n"
     ]
    }
   ],
   "source": [
    "%%bash\n",
    "lscpu"
   ]
  },
  {
   "cell_type": "code",
   "execution_count": 17,
   "metadata": {},
   "outputs": [],
   "source": [
    "#Este comando devuelve error\n",
    "#%%bash\n",
    "#sudo lshw -C memory"
   ]
  },
  {
   "cell_type": "markdown",
   "metadata": {
    "tags": []
   },
   "source": [
    "### Cargamos unos datos de prueba para el perfilamiento"
   ]
  },
  {
   "cell_type": "code",
   "execution_count": 21,
   "metadata": {},
   "outputs": [],
   "source": [
    "path = 'gr17_d_city_distances.txt'"
   ]
  },
  {
   "cell_type": "code",
   "execution_count": 22,
   "metadata": {},
   "outputs": [],
   "source": [
    "G = read_data(path)\n"
   ]
  },
  {
   "cell_type": "code",
   "execution_count": 23,
   "metadata": {},
   "outputs": [
    {
     "data": {
      "text/plain": [
       "<networkx.classes.graph.Graph at 0x7fe5d98f8710>"
      ]
     },
     "execution_count": 23,
     "metadata": {},
     "output_type": "execute_result"
    }
   ],
   "source": [
    "G"
   ]
  },
  {
   "cell_type": "code",
   "execution_count": 25,
   "metadata": {},
   "outputs": [],
   "source": [
    "colonia = colony(G, \n",
    "                 init_node=7, \n",
    "                 n_ants=5, \n",
    "                 max_iter=500, \n",
    "                 rho=.5, \n",
    "                 alpha=3,\n",
    "                 beta=3)"
   ]
  },
  {
   "cell_type": "markdown",
   "metadata": {},
   "source": [
    "# A. Perfilamiento de tiempos de ejecucion"
   ]
  },
  {
   "cell_type": "markdown",
   "metadata": {},
   "source": [
    "### Utilizamos Timeit para medir tiempos de ejecución"
   ]
  },
  {
   "cell_type": "markdown",
   "metadata": {},
   "source": [
    "## Probamos el metodo solve.tsp ya que es el método principal de nuestro algoritmo que a su vez llama a los otros métodos de mayor importancia :"
   ]
  },
  {
   "cell_type": "markdown",
   "metadata": {},
   "source": [
    "### Primero medimos el tiempo que toma ejecutar el método "
   ]
  },
  {
   "cell_type": "code",
   "execution_count": 26,
   "metadata": {},
   "outputs": [
    {
     "name": "stdout",
     "output_type": "stream",
     "text": [
      "- Tiempo total: -0.0003791760000240174 segundos.\n"
     ]
    }
   ],
   "source": [
    "start = timeit.timeit()\n",
    "colonia.solve_tsp()\n",
    "end = timeit.timeit()\n",
    "print(f\"- Tiempo total: {(end-start)} segundos.\")"
   ]
  },
  {
   "cell_type": "markdown",
   "metadata": {},
   "source": [
    "### A continuación utilizamos cProfile para ver las partes del método que más se tardan "
   ]
  },
  {
   "cell_type": "code",
   "execution_count": 27,
   "metadata": {},
   "outputs": [
    {
     "name": "stdout",
     "output_type": "stream",
     "text": [
      "         3141046 function calls (3140546 primitive calls) in 4.248 seconds\n",
      "\n",
      "   Ordered by: cumulative time\n",
      "\n",
      "   ncalls  tottime  percall  cumtime  percall filename:lineno(function)\n",
      "        2    0.000    0.000    4.247    2.124 interactiveshell.py:3288(run_code)\n",
      "        2    0.000    0.000    4.247    2.124 {built-in method builtins.exec}\n",
      "        1    0.000    0.000    4.247    4.247 <ipython-input-27-5fb9737eed66>:3(<module>)\n",
      "        1    0.010    0.010    4.247    4.247 aco_tsp_oo.py:112(solve_tsp)\n",
      "      500    0.153    0.000    4.022    0.008 aco_tsp_oo.py:81(_colony_run)\n",
      "     2500    0.324    0.000    3.865    0.002 aco_tsp_oo.py:151(walk_over_graph)\n",
      "     2500    0.598    0.000    3.141    0.001 utils.py:26(create_dic_dist_from_graph)\n",
      "   767500    1.486    0.000    1.739    0.000 defmatrix.py:189(__getitem__)\n",
      "     2500    0.007    0.000    0.799    0.000 convert_matrix.py:442(to_numpy_matrix)\n",
      "     2500    0.621    0.000    0.726    0.000 convert_matrix.py:1093(to_numpy_array)\n",
      "    40000    0.097    0.000    0.308    0.000 random.py:343(choices)\n",
      "    40000    0.128    0.000    0.202    0.000 random.py:364(<listcomp>)\n",
      "      500    0.185    0.000    0.190    0.000 utils.py:91(atraccion_nodos)\n",
      "   857500    0.154    0.000    0.154    0.000 {built-in method builtins.isinstance}\n",
      "    87500    0.087    0.000    0.096    0.000 defmatrix.py:167(__array_finalize__)\n",
      "    40000    0.070    0.000    0.070    0.000 {built-in method _bisect.bisect}\n",
      "     2500    0.004    0.000    0.066    0.000 defmatrix.py:36(asmatrix)\n",
      "   680000    0.065    0.000    0.065    0.000 {method 'get' of 'dict' objects}\n",
      "     2500    0.044    0.000    0.062    0.000 defmatrix.py:115(__new__)\n",
      "307000/306500    0.039    0.000    0.039    0.000 {built-in method builtins.len}\n",
      "    40000    0.039    0.000    0.039    0.000 aco_tsp_oo.py:175(<listcomp>)\n",
      "     2500    0.007    0.000    0.026    0.000 numeric.py:268(full)\n",
      "    48500    0.018    0.000    0.026    0.000 graph.py:1199(neighbors)\n",
      "      498    0.025    0.000    0.025    0.000 aco_tsp_oo.py:73(_evaporates_pheromone)\n",
      "     2500    0.003    0.000    0.013    0.000 <__array_function__ internals>:2(copyto)\n",
      "     2500    0.010    0.000    0.010    0.000 {built-in method _warnings.warn}\n",
      "    59000    0.010    0.000    0.010    0.000 {built-in method builtins.iter}\n",
      "     2500    0.009    0.000    0.009    0.000 {built-in method numpy.core._multiarray_umath.implement_array_function}\n",
      "     6000    0.007    0.000    0.009    0.000 graph.py:656(nodes)\n",
      "     2500    0.008    0.000    0.008    0.000 {built-in method builtins.sum}\n",
      "     2500    0.003    0.000    0.006    0.000 {method 'view' of 'numpy.ndarray' objects}\n",
      "     5000    0.005    0.000    0.005    0.000 {built-in method numpy.array}\n",
      "    40000    0.005    0.000    0.005    0.000 {method 'random' of '_random.Random' objects}\n",
      "     2500    0.005    0.000    0.005    0.000 aco_tsp_oo.py:180(<listcomp>)\n",
      "    45000    0.004    0.000    0.004    0.000 {method 'items' of 'dict' objects}\n",
      "     2500    0.004    0.000    0.004    0.000 {built-in method numpy.empty}\n",
      "     2500    0.002    0.000    0.003    0.000 graph.py:1345(adjacency)\n",
      "     5500    0.002    0.000    0.003    0.000 reportviews.py:183(__iter__)\n",
      "     2500    0.001    0.000    0.003    0.000 _asarray.py:14(asarray)\n",
      "     6000    0.002    0.000    0.003    0.000 reportviews.py:180(__len__)\n",
      "      500    0.001    0.000    0.002    0.000 aco_tsp_oo.py:59(_update_many_pheromone_levels)\n",
      "     6000    0.002    0.000    0.002    0.000 reportviews.py:176(__init__)\n",
      "     2500    0.001    0.000    0.001    0.000 graph.py:388(__iter__)\n",
      "     2500    0.001    0.000    0.001    0.000 graph.py:420(__len__)\n",
      "     5000    0.001    0.000    0.001    0.000 {method 'append' of 'list' objects}\n",
      "     2500    0.001    0.000    0.001    0.000 multiarray.py:1043(copyto)\n",
      "      500    0.000    0.000    0.000    0.000 {built-in method builtins.min}\n",
      "     2500    0.000    0.000    0.000    0.000 graph.py:1443(is_directed)\n",
      "     2500    0.000    0.000    0.000    0.000 graph.py:1439(is_multigraph)\n",
      "      500    0.000    0.000    0.000    0.000 {method 'index' of 'list' objects}\n",
      "        2    0.000    0.000    0.000    0.000 codeop.py:132(__call__)\n",
      "        2    0.000    0.000    0.000    0.000 {built-in method builtins.compile}\n",
      "        2    0.000    0.000    0.000    0.000 contextlib.py:157(helper)\n",
      "        4    0.000    0.000    0.000    0.000 {built-in method builtins.next}\n",
      "        2    0.000    0.000    0.000    0.000 contextlib.py:59(__init__)\n",
      "        2    0.000    0.000    0.000    0.000 traitlets.py:545(__get__)\n",
      "        2    0.000    0.000    0.000    0.000 contextlib.py:85(__exit__)\n",
      "        2    0.000    0.000    0.000    0.000 contextlib.py:79(__enter__)\n",
      "        4    0.000    0.000    0.000    0.000 {built-in method builtins.getattr}\n",
      "        2    0.000    0.000    0.000    0.000 traitlets.py:526(get)\n",
      "        1    0.000    0.000    0.000    0.000 <ipython-input-27-5fb9737eed66>:4(<module>)\n",
      "        2    0.000    0.000    0.000    0.000 hooks.py:142(__call__)\n",
      "        2    0.000    0.000    0.000    0.000 interactiveshell.py:117(<lambda>)\n",
      "        2    0.000    0.000    0.000    0.000 ipstruct.py:125(__getattr__)\n",
      "        4    0.000    0.000    0.000    0.000 compilerop.py:138(extra_flags)\n",
      "        1    0.000    0.000    0.000    0.000 {method 'disable' of '_lsprof.Profiler' objects}\n",
      "        2    0.000    0.000    0.000    0.000 hooks.py:207(pre_run_code_hook)\n",
      "        2    0.000    0.000    0.000    0.000 interactiveshell.py:3230(compare)\n",
      "        2    0.000    0.000    0.000    0.000 interactiveshell.py:1272(user_global_ns)\n",
      "\n",
      "\n"
     ]
    }
   ],
   "source": [
    "cprof = cProfile.Profile()\n",
    "cprof.enable()\n",
    "res =  colonia.solve_tsp()\n",
    "cprof.disable()\n",
    "cprof.print_stats(sort='cumtime')"
   ]
  },
  {
   "cell_type": "markdown",
   "metadata": {},
   "source": [
    "Y observamos que lo que mas se tarda son (la segunda columna es la que indica el tiempo total de ejecución) : \n"
   ]
  },
  {
   "cell_type": "markdown",
   "metadata": {
    "tags": []
   },
   "source": [
    "     2500    0.324    0.000    3.865    0.002 aco_tsp_oo.py:151(walk_over_graph)\n",
    "     2500    0.598    0.000    3.141    0.001 utils.py:26(create_dic_dist_from_graph)\n",
    "   767500    1.486    0.000    1.739    0.000 create_dic_dist_from_graph(self.graph)\n",
    "     2500    0.621    0.000    0.726    0.000 convert_matrix.py:1093(to_numpy_array)\n"
   ]
  },
  {
   "cell_type": "code",
   "execution_count": 28,
   "metadata": {},
   "outputs": [],
   "source": [
    "cprof.dump_stats(\"solve_tsp_stats\")\n"
   ]
  },
  {
   "cell_type": "code",
   "execution_count": 29,
   "metadata": {},
   "outputs": [
    {
     "name": "stdout",
     "output_type": "stream",
     "text": [
      "Wed May  5 12:18:30 2021    solve_tsp_stats\n",
      "\n",
      "         3141046 function calls (3140546 primitive calls) in 4.248 seconds\n",
      "\n",
      "   Ordered by: cumulative time\n",
      "   List reduced from 69 to 10 due to restriction <10>\n",
      "\n",
      "   ncalls  tottime  percall  cumtime  percall filename:lineno(function)\n",
      "        2    0.000    0.000    4.247    2.124 /usr/local/lib/python3.6/dist-packages/IPython/core/interactiveshell.py:3288(run_code)\n",
      "        2    0.000    0.000    4.247    2.124 {built-in method builtins.exec}\n",
      "        1    0.000    0.000    4.247    4.247 <ipython-input-27-5fb9737eed66>:3(<module>)\n",
      "        1    0.010    0.010    4.247    4.247 /usr/local/lib/python3.6/dist-packages/ant_colony/aco_tsp_oo.py:112(solve_tsp)\n",
      "      500    0.153    0.000    4.022    0.008 /usr/local/lib/python3.6/dist-packages/ant_colony/aco_tsp_oo.py:81(_colony_run)\n",
      "     2500    0.324    0.000    3.865    0.002 /usr/local/lib/python3.6/dist-packages/ant_colony/aco_tsp_oo.py:151(walk_over_graph)\n",
      "     2500    0.598    0.000    3.141    0.001 /usr/local/lib/python3.6/dist-packages/ant_colony/utils.py:26(create_dic_dist_from_graph)\n",
      "   767500    1.486    0.000    1.739    0.000 /usr/local/lib/python3.6/dist-packages/numpy/matrixlib/defmatrix.py:189(__getitem__)\n",
      "     2500    0.007    0.000    0.799    0.000 /usr/local/lib/python3.6/dist-packages/networkx/convert_matrix.py:442(to_numpy_matrix)\n",
      "     2500    0.621    0.000    0.726    0.000 /usr/local/lib/python3.6/dist-packages/networkx/convert_matrix.py:1093(to_numpy_array)\n",
      "\n",
      "\n",
      "<pstats.Stats object at 0x7fe5d94b2b70>\n"
     ]
    }
   ],
   "source": [
    "p_solve_tsp_stats = pstats.Stats(\"solve_tsp_stats\")\n",
    "print(p_solve_tsp_stats.sort_stats(\"cumulative\").print_stats(10))"
   ]
  },
  {
   "cell_type": "markdown",
   "metadata": {},
   "source": [
    "Nuevamente observamos que:\n",
    "\n",
    "-walk over graph (método de ant colony)\n",
    "\n",
    "-get item (el cual es un método de numpy) \n",
    "\n",
    "-create dict dist from graph (método de ant colony)\n",
    "\n",
    "-convert_matrix (el cual es un método de networkx)\n",
    "\n",
    "son las que mas se tardan \n",
    "\n"
   ]
  },
  {
   "cell_type": "markdown",
   "metadata": {
    "tags": []
   },
   "source": [
    "- Nos concentraremos en perfilar los métodos de ant colony que más se están tardando ya que nuestro objetivo es mejorar la implementacion del algoritmo "
   ]
  },
  {
   "cell_type": "code",
   "execution_count": null,
   "metadata": {},
   "outputs": [],
   "source": []
  },
  {
   "cell_type": "markdown",
   "metadata": {},
   "source": [
    "# B. Perfilamiento en uso de memoria"
   ]
  },
  {
   "cell_type": "code",
   "execution_count": 68,
   "metadata": {},
   "outputs": [],
   "source": [
    "#t = (colonia.solve_tsp())\n",
    "#print(memory_usage(t, max_usage=True))"
   ]
  },
  {
   "cell_type": "code",
   "execution_count": null,
   "metadata": {},
   "outputs": [],
   "source": [
    "#start_mem = memory_usage(max_usage=True)\n",
    "#res = memory_usage(t, max_usage=True, retval=True)\n",
    "#print('start mem', start_mem)\n",
    "#print('max mem', res[0])\n",
    "#print('used mem', res[0]-start_mem)\n",
    "#print('fun output', res[1])"
   ]
  },
  {
   "cell_type": "markdown",
   "metadata": {
    "tags": []
   },
   "source": [
    "por algun motivo, el codigo vinculado a memory_usage no funciona ni en la computadora local ni en la remota, para nuestros métodos "
   ]
  },
  {
   "cell_type": "code",
   "execution_count": 33,
   "metadata": {},
   "outputs": [],
   "source": [
    "%load_ext memory_profiler\n"
   ]
  },
  {
   "cell_type": "code",
   "execution_count": 34,
   "metadata": {},
   "outputs": [
    {
     "name": "stdout",
     "output_type": "stream",
     "text": [
      "peak memory: 164.52 MiB, increment: 0.01 MiB\n"
     ]
    }
   ],
   "source": [
    "%memit #how much RAM this process is consuming\n"
   ]
  },
  {
   "cell_type": "code",
   "execution_count": 35,
   "metadata": {},
   "outputs": [
    {
     "name": "stdout",
     "output_type": "stream",
     "text": [
      "peak memory: 292.00 MiB, increment: 127.47 MiB\n"
     ]
    }
   ],
   "source": [
    "%memit -c colonia.solve_tsp()\n"
   ]
  },
  {
   "cell_type": "markdown",
   "metadata": {
    "tags": []
   },
   "source": [
    "## Perfilamiento Linea Por Linea "
   ]
  },
  {
   "cell_type": "markdown",
   "metadata": {
    "tags": []
   },
   "source": [
    "A continuación, utilizamos la siguiente estrategia. Comenzamos con un perfilamiento de solve_tsp, por ser el método más general, y luego iremos perfilando submétodos y funciones que encontremos que están ocupando mucho tiempo y requieren un perfilamiento linea por linea"
   ]
  },
  {
   "cell_type": "markdown",
   "metadata": {
    "tags": []
   },
   "source": [
    "### Perfilamos el método solve_tsp"
   ]
  },
  {
   "cell_type": "code",
   "execution_count": 42,
   "metadata": {},
   "outputs": [
    {
     "name": "stdout",
     "output_type": "stream",
     "text": [
      "None\n"
     ]
    }
   ],
   "source": [
    "line_prof = line_profiler.LineProfiler()\n",
    "print(line_prof(colonia.solve_tsp)())"
   ]
  },
  {
   "cell_type": "code",
   "execution_count": 43,
   "metadata": {},
   "outputs": [
    {
     "name": "stdout",
     "output_type": "stream",
     "text": [
      "Timer unit: 1e-06 s\n",
      "\n",
      "Total time: 8.97412 s\n",
      "File: /usr/local/lib/python3.6/dist-packages/ant_colony/aco_tsp_oo.py\n",
      "Function: solve_tsp at line 112\n",
      "\n",
      "Line #      Hits         Time  Per Hit   % Time  Line Contents\n",
      "==============================================================\n",
      "   112                                               def solve_tsp(self):\n",
      "   113                                                   \"\"\"Resuelve el problema TSP.\n",
      "   114                                                   \"\"\"\n",
      "   115         1          2.0      2.0      0.0          route = self.best_route\n",
      "   116         1          1.0      1.0      0.0          dist = self.best_dist\n",
      "   117                                                   \n",
      "   118       501        940.0      1.9      0.0          for k in range(self.max_iter):\n",
      "   119       500        478.0      1.0      0.0              A = atraccion_nodos(self.graph,tau= self.tau, eta=self.eta, \n",
      "   120       500     255796.0    511.6      2.9                                  alpha=self.alpha, beta=self.beta)\n",
      "   121                                                       \n",
      "   122       500        514.0      1.0      0.0              if k>1:\n",
      "   123       498     116055.0    233.0      1.3                  self._evaporates_pheromone()\n",
      "   124                                                           \n",
      "   125                                                       # ants running across the graph\n",
      "   126       500    8600337.0  17200.7     95.8              self._colony_run(A)\n",
      "\n",
      "None\n"
     ]
    }
   ],
   "source": [
    "print(line_prof.print_stats())"
   ]
  },
  {
   "cell_type": "markdown",
   "metadata": {
    "tags": []
   },
   "source": [
    "Dado que observamos que self._colony_run(A) se tarda bastatante, vamos a analizar ese método por separado\n",
    "Tambien vamos a perfilar la funcion atraccion_nodos "
   ]
  },
  {
   "cell_type": "markdown",
   "metadata": {
    "tags": []
   },
   "source": [
    "### Perfilamos la funcion atraccion_nodos"
   ]
  },
  {
   "cell_type": "code",
   "execution_count": 48,
   "metadata": {},
   "outputs": [],
   "source": [
    "tau = init_ferom(G)\n",
    "eta = init_atrac(G, create_dic_dist_from_graph(G))\n",
    "\n",
    "A = atraccion_nodos(G, tau, eta, alpha=1, beta=5) "
   ]
  },
  {
   "cell_type": "code",
   "execution_count": 56,
   "metadata": {},
   "outputs": [],
   "source": [
    "line_prof = line_profiler.LineProfiler()\n",
    "print(line_prof(atraccion_nodos)(G, tau, eta, alpha=1, beta=5))"
   ]
  },
  {
   "cell_type": "code",
   "execution_count": 55,
   "metadata": {},
   "outputs": [
    {
     "name": "stdout",
     "output_type": "stream",
     "text": [
      "Timer unit: 1e-06 s\n",
      "\n",
      "Total time: 0.000679 s\n",
      "File: /usr/local/lib/python3.6/dist-packages/ant_colony/utils.py\n",
      "Function: atraccion_nodos at line 91\n",
      "\n",
      "Line #      Hits         Time  Per Hit   % Time  Line Contents\n",
      "==============================================================\n",
      "    91                                           def atraccion_nodos(G, tau, eta, alpha=1, beta=5):\n",
      "    92                                               \"\"\"Calcula el grado de atracción de todos los nodos pertenicientes al \n",
      "    93                                               grafo G.\n",
      "    94                                           \n",
      "    95                                               Args:\n",
      "    96                                                   G (networkx graph): Grafo con relaciones asociadas entre nodos\n",
      "    97                                                   tau (dic): Diccionario con niveles de feromonas de los vecinos de \n",
      "    98                                                   cada nodo\n",
      "    99                                                   eta (dic): Diccionario con nivel de atracción inicial de los vecinos \n",
      "   100                                                   de cada nodo\n",
      "   101                                                   alpha (int, optional): Factor de influencia de tau. Defaults to 1.\n",
      "   102                                                   beta (int, optional): Factor de influencia de eta. Defaults to 5.\n",
      "   103                                           \n",
      "   104                                               Returns:\n",
      "   105                                                   (dic): Diccionario con los valores de atracción de los vecinos del \n",
      "   106                                                   nodo j\n",
      "   107                                               \"\"\"\n",
      "   108                                           \n",
      "   109         1          1.0      1.0      0.1      dic_attr = {}\n",
      "   110                                           \n",
      "   111                                               # componentes del grafo\n",
      "   112         1         13.0     13.0      1.9      nodos = list(G.nodes)\n",
      "   113                                               \n",
      "   114        18          7.0      0.4      1.0      for nodo in nodos:\n",
      "   115        17         10.0      0.6      1.5          dic_attr[nodo] = {}\n",
      "   116        17         34.0      2.0      5.0          neighbors = list(G.neighbors(nodo))\n",
      "   117       289        101.0      0.3     14.9          for neighbor in neighbors:\n",
      "   118       272         93.0      0.3     13.7              if neighbor != nodo:\n",
      "   119       272        299.0      1.1     44.0                  attr = tau[nodo][neighbor]**alpha + eta[nodo][neighbor]**beta\n",
      "   120       272        121.0      0.4     17.8                  dic_attr[nodo][neighbor] = attr\n",
      "   121                                                   \n",
      "   122         1          0.0      0.0      0.0      return dic_attr\n",
      "\n",
      "None\n"
     ]
    }
   ],
   "source": [
    "print(line_prof.print_stats())"
   ]
  },
  {
   "cell_type": "markdown",
   "metadata": {
    "tags": []
   },
   "source": [
    "- Observamos estos fors anidados que están demandando una mayor ejecución en tiempo en particular en la linea 117"
   ]
  },
  {
   "cell_type": "markdown",
   "metadata": {
    "tags": []
   },
   "source": [
    "### Perfilamos el metodo self._colony_run()"
   ]
  },
  {
   "cell_type": "code",
   "execution_count": 51,
   "metadata": {},
   "outputs": [
    {
     "name": "stdout",
     "output_type": "stream",
     "text": [
      "None\n"
     ]
    }
   ],
   "source": [
    "line_prof = line_profiler.LineProfiler()\n",
    "print(line_prof(colonia._colony_run)(A))"
   ]
  },
  {
   "cell_type": "code",
   "execution_count": 52,
   "metadata": {},
   "outputs": [
    {
     "name": "stdout",
     "output_type": "stream",
     "text": [
      "Timer unit: 1e-06 s\n",
      "\n",
      "Total time: 0.007305 s\n",
      "File: /usr/local/lib/python3.6/dist-packages/ant_colony/aco_tsp_oo.py\n",
      "Function: _colony_run at line 81\n",
      "\n",
      "Line #      Hits         Time  Per Hit   % Time  Line Contents\n",
      "==============================================================\n",
      "    81                                               def _colony_run(self, A):\n",
      "    82                                                   \"\"\"La hormigas de la colonia realizan recorridos \n",
      "    83                                                   independientes simultáneamente.\n",
      "    84                                           \n",
      "    85                                                   Args:\n",
      "    86                                                       A (dic): nivel de atracción de los nodos con respecto\n",
      "    87                                                       a sus vecinos.\n",
      "    88                                                   \"\"\"\n",
      "    89         1          2.0      2.0      0.0          distances = []\n",
      "    90         1          1.0      1.0      0.0          routes = []\n",
      "    91         6          2.0      0.3      0.0          for ant in self.ants:\n",
      "    92         5          4.0      0.8      0.1              ant.walk_over_graph(init_node=self.init_node, \n",
      "    93         5          2.0      0.4      0.0                                  dist = self.lenghts, \n",
      "    94         5       7274.0   1454.8     99.6                                  atrac = A)\n",
      "    95                                                       \n",
      "    96         5          7.0      1.4      0.1              routes.append(ant.route)\n",
      "    97         5          3.0      0.6      0.0              distances.append(ant.r_len)\n",
      "    98                                                       \n",
      "    99                                                   # updates pheromone levels\n",
      "   100         1          5.0      5.0      0.1          self._update_many_pheromone_levels(routes, distances)\n",
      "   101                                                       \n",
      "   102                                                   # best route\n",
      "   103         1          2.0      2.0      0.0          min_dist = min(distances)\n",
      "   104         1          2.0      2.0      0.0          bst_idx = distances.index(min_dist)\n",
      "   105         1          0.0      0.0      0.0          bst_route = self.ants[bst_idx].route\n",
      "   106                                                   \n",
      "   107                                                   # improves route if possible\n",
      "   108         1          1.0      1.0      0.0          if min_dist < self.best_dist:\n",
      "   109                                                       self.best_dist = min_dist\n",
      "   110                                                       self.best_route = bst_route\n",
      "\n",
      "None\n"
     ]
    }
   ],
   "source": [
    "print(line_prof.print_stats())"
   ]
  },
  {
   "cell_type": "markdown",
   "metadata": {
    "tags": []
   },
   "source": [
    "- Observamos que la mayor parte del tiempo de ejecucion se la lleva el metodo walk_over_graph, entonces procedemos  a hacer un perfilamiento del mismo "
   ]
  },
  {
   "cell_type": "markdown",
   "metadata": {
    "tags": []
   },
   "source": [
    "### Perfilamos walk_over_graph"
   ]
  },
  {
   "cell_type": "code",
   "execution_count": 57,
   "metadata": {},
   "outputs": [],
   "source": [
    "# 5 es la cantidad de hormigas\n",
    "ants = [ant(G) for i in range(5)]"
   ]
  },
  {
   "cell_type": "code",
   "execution_count": 60,
   "metadata": {},
   "outputs": [],
   "source": [
    "# tomamos una hormiga \n",
    "ant= ants[1]"
   ]
  },
  {
   "cell_type": "code",
   "execution_count": 66,
   "metadata": {},
   "outputs": [],
   "source": [
    "lenghts= create_dic_dist_from_graph(G)\n",
    "#7 era el nodo inicial que habiamos elegido mas arriba\n",
    "init_node = 7"
   ]
  },
  {
   "cell_type": "code",
   "execution_count": 67,
   "metadata": {},
   "outputs": [],
   "source": [
    "ant.walk_over_graph(init_node=init_node, \n",
    "                                dist = lenghts, \n",
    "                                atrac = A)"
   ]
  },
  {
   "cell_type": "code",
   "execution_count": 71,
   "metadata": {},
   "outputs": [
    {
     "name": "stdout",
     "output_type": "stream",
     "text": [
      "None\n"
     ]
    }
   ],
   "source": [
    "line_prof = line_profiler.LineProfiler()\n",
    "print(line_prof(ant.walk_over_graph)(init_node=init_node, \n",
    "                                dist = lenghts, \n",
    "                                atrac = A))"
   ]
  },
  {
   "cell_type": "code",
   "execution_count": 72,
   "metadata": {},
   "outputs": [
    {
     "name": "stdout",
     "output_type": "stream",
     "text": [
      "Timer unit: 1e-06 s\n",
      "\n",
      "Total time: 0.001602 s\n",
      "File: /usr/local/lib/python3.6/dist-packages/ant_colony/aco_tsp_oo.py\n",
      "Function: walk_over_graph at line 151\n",
      "\n",
      "Line #      Hits         Time  Per Hit   % Time  Line Contents\n",
      "==============================================================\n",
      "   151                                               def walk_over_graph(self, \n",
      "   152                                                                 init_node,\n",
      "   153                                                                 dist, \n",
      "   154                                                                 atrac):\n",
      "   155                                                   \"\"\"La hormiga intenta recorrer el grafo y volver\n",
      "   156                                                   al origen sin repetir otros nodos.\n",
      "   157                                           \n",
      "   158                                                   Args:\n",
      "   159                                                       init_node (int): Nodo inicial del recorrido.\n",
      "   160                                                       dist (dic): Diccionario de distancias de las trayectorias.\n",
      "   161                                                       atrac (dic): Diccionario de atracción de los nodos con \n",
      "   162                                                       relación a sus vecinos.\n",
      "   163                                                   \"\"\"\n",
      "   164                                                   \n",
      "   165         1          3.0      3.0      0.2          x = [init_node]\n",
      "   166         1         20.0     20.0      1.2          nodes = list(self.graph.nodes)\n",
      "   167         1       1274.0   1274.0     79.5          lenghts = create_dic_dist_from_graph(self.graph)\n",
      "   168                                                   \n",
      "   169        17         14.0      0.8      0.9          while len(x) < len(nodes):\n",
      "   170        16         10.0      0.6      0.6              i = x[-1]\n",
      "   171        16         53.0      3.3      3.3              neighbors = set(list(self.graph.neighbors(i))) - set(x)\n",
      "   172        16         13.0      0.8      0.8              if len(neighbors) == 0:\n",
      "   173                                                           break\n",
      "   174                                                   \n",
      "   175        16         50.0      3.1      3.1              a_s = [atrac[i][j] for j in neighbors]\n",
      "   176        16        140.0      8.8      8.7              next_ = random.choices(list(neighbors), weights= a_s)\n",
      "   177        16         11.0      0.7      0.7              x = x + next_\n",
      "   178                                           \n",
      "   179                                                   # distancia total del recorrido (se adiciona retorno al origen)\n",
      "   180         1         10.0     10.0      0.6          l = sum([lenghts[i-1][i] for i in range(1, len(x))]) + lenghts[x[-1]][init_node] \n",
      "   181                                           \n",
      "   182                                                   # sumar regreso al origen\n",
      "   183         1          2.0      2.0      0.1          self.route = x + [init_node]   \n",
      "   184         1          2.0      2.0      0.1          self.r_len = l\n",
      "\n",
      "None\n"
     ]
    }
   ],
   "source": [
    "print(line_prof.print_stats())"
   ]
  },
  {
   "cell_type": "markdown",
   "metadata": {
    "tags": []
   },
   "source": [
    "- Obvservamos que create_dic_dist_from_graph es lo que más se tarda y lo perfilamos a continuación "
   ]
  },
  {
   "cell_type": "markdown",
   "metadata": {
    "tags": []
   },
   "source": [
    "### Perfilamos create_dic_dist_from_graph(G)"
   ]
  },
  {
   "cell_type": "code",
   "execution_count": 76,
   "metadata": {},
   "outputs": [],
   "source": [
    "line_prof = line_profiler.LineProfiler()\n",
    "print(line_prof(create_dic_dist_from_graph)(G))"
   ]
  },
  {
   "cell_type": "code",
   "execution_count": 75,
   "metadata": {},
   "outputs": [
    {
     "name": "stdout",
     "output_type": "stream",
     "text": [
      "Timer unit: 1e-06 s\n",
      "\n",
      "Total time: 0.001454 s\n",
      "File: /usr/local/lib/python3.6/dist-packages/ant_colony/utils.py\n",
      "Function: create_dic_dist_from_graph at line 26\n",
      "\n",
      "Line #      Hits         Time  Per Hit   % Time  Line Contents\n",
      "==============================================================\n",
      "    26                                           def create_dic_dist_from_graph(G):\n",
      "    27                                               \"\"\"Crea diccionario de distancias entre nodos a partir de un grafo. \n",
      "    28                                           \n",
      "    29                                               Args:\n",
      "    30                                                   G (networkx graph): Grafo con relaciones asociadas entre nodos\n",
      "    31                                           \n",
      "    32                                               Returns:\n",
      "    33                                                   (dic): Diccionario de distancias de los nodos\n",
      "    34                                               \"\"\"\n",
      "    35         1         13.0     13.0      0.9      nodos = list(G.nodes)\n",
      "    36         1        501.0    501.0     34.5      G_num = nx.to_numpy_matrix(G)\n",
      "    37         1          0.0      0.0      0.0      lenghts = {}\n",
      "    38        18        151.0      8.4     10.4      for node, z in enumerate(G_num):\n",
      "    39        17          8.0      0.5      0.6          lenghts[node] = {}\n",
      "    40       306        109.0      0.4      7.5          for neighbor in nodos:\n",
      "    41       289        672.0      2.3     46.2              lenghts[node][neighbor] = z[0, neighbor]\n",
      "    42                                           \n",
      "    43         1          0.0      0.0      0.0      return lenghts  \n",
      "\n",
      "None\n"
     ]
    }
   ],
   "source": [
    "print(line_prof.print_stats())"
   ]
  },
  {
   "cell_type": "markdown",
   "metadata": {
    "tags": []
   },
   "source": [
    "Observamos que el mayor tiempo se está tardando en : \n",
    "\n",
    "- nx.to_numpy_matriz, un método del paquete networks\n",
    "\n",
    "- el doble for en las lineas 38 a 41\n"
   ]
  },
  {
   "cell_type": "code",
   "execution_count": null,
   "metadata": {},
   "outputs": [],
   "source": [
    "## Conclusion General "
   ]
  },
  {
   "cell_type": "markdown",
   "metadata": {
    "tags": []
   },
   "source": [
    "## Conclusion General"
   ]
  },
  {
   "cell_type": "markdown",
   "metadata": {
    "tags": []
   },
   "source": [
    "Nuestro análisis comenzó por un perfilamiento general, y luego fuimos analizando los submétodos y funciones que más estaban requiriendo un tiempo de ejecución "
   ]
  },
  {
   "cell_type": "markdown",
   "metadata": {
    "tags": []
   },
   "source": [
    "De este análisis se desprende que el mayor tiempo de ejecución se encuentra en:\n",
    "\n",
    "- el for anidado en la función atraccion_nodos\n",
    "\n",
    "- el for anidado en la función create_dic_dist_from_graph\n",
    "\n",
    "Esta última función es particularmente importante dado que es llamada de manera muy reiterada en el algoritmo, cada vez que una hormiga debe decidir a dónde moverse. \n",
    "    \n",
    "    \n",
    "    "
   ]
  },
  {
   "cell_type": "code",
   "execution_count": null,
   "metadata": {},
   "outputs": [],
   "source": []
  }
 ],
 "metadata": {
  "kernelspec": {
   "display_name": "Python 3",
   "language": "python",
   "name": "python3"
  },
  "kubeflow_notebook": {
   "autosnapshot": false,
   "docker_image": "",
   "experiment": {
    "id": "",
    "name": ""
   },
   "experiment_name": "",
   "katib_run": false,
   "pipeline_description": "",
   "pipeline_name": "",
   "snapshot_volumes": false,
   "steps_defaults": [],
   "volume_access_mode": "rwm",
   "volumes": []
  },
  "language_info": {
   "codemirror_mode": {
    "name": "ipython",
    "version": 3
   },
   "file_extension": ".py",
   "mimetype": "text/x-python",
   "name": "python",
   "nbconvert_exporter": "python",
   "pygments_lexer": "ipython3",
   "version": "3.6.9"
  }
 },
 "nbformat": 4,
 "nbformat_minor": 4
}
