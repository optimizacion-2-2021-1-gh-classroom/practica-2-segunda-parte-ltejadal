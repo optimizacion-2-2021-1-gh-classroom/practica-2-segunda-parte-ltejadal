{
 "cells": [
  {
   "cell_type": "markdown",
   "id": "elder-intensity",
   "metadata": {},
   "source": [
    "# Reimplementación - Multiprocessing\n",
    "\n",
    "El propósito de este _notebook_ es mostrar el procedimiento para hacer una re-implementación de la clase `colony`, a su versión utilizando multiprocesamiento con la librería `mutiprocessing` vista en clase y explicada en el [capítulo V del libro](https://itam-ds.github.io/analisis-numerico-computo-cientifico/V.optimizacion_de_codigo/5.4/Computo_en_paralelo_usando_CPUS_en_SMC.html#multiprocessing) de optimización y cómputo en paralelo. \n",
    "\n",
    "En particular, del resultado de los ejercicios de perfilamiento, se tiene que el ḿetodo `.solve_tsp` es el que lleva más tiempo de computo. Dado lo anterior, buscamos implementar la siguiente solución:\n",
    "\n",
    "- Enviar un número determinado de hormigas a un _pool_ de workers, donde en cada uno de llos cada hormiga recorrerá el grafo buscando una solución en cada iteración del algoritmo. \n",
    "- Una vez completado ese proceso, en cada iteracíon se actualiza el nviel de feromonas del grafo de acuerdo a los recorridos que llevó a cabo cada hormiga. \n",
    "\n",
    "\n",
    "A continuación se presentan las fases implementadas para lograr dicho resultado. Este Trabajaremos con 3\n",
    "0 ciudades de China sacadas aleatoriamente del conjunto de la base de datos _National Traveling Salesman Problems_ de la Universidad de Waterloo, disponible [aquí](https://www.math.uwaterloo.ca/tsp/world/countries.html).\n",
    "\n",
    "\n",
    "**Nota importante:\n",
    "Este _notebook_ se ejecuta desde `practica-1-segunda-parte-ltejadal/src/ant_colony` del [repo](https://github.com/optimizacion-2-2021-1-gh-classroom/practica-1-segunda-parte-ltejadal) donde está implementada la librería, y se busca que los métodos y funciones presentados formen parte de `ACO-TSP`.**"
   ]
  },
  {
   "cell_type": "code",
   "execution_count": 4,
   "id": "vanilla-adelaide",
   "metadata": {},
   "outputs": [],
   "source": [
    "import random\n",
    "import time\n",
    "import tsplib95\n",
    "import numpy as np\n",
    "import networkx as nx\n",
    "import matplotlib.pyplot as plt\n",
    "from utils import *\n",
    "from aco_tsp_oo import *\n",
    "from multiprocessing import cpu_count\n",
    "from multiprocessing import Pool"
   ]
  },
  {
   "cell_type": "code",
   "execution_count": 3,
   "id": "lyric-variation",
   "metadata": {},
   "outputs": [
    {
     "name": "stdout",
     "output_type": "stream",
     "text": [
      "Problem with 71009 cities. Selected 30.\n"
     ]
    }
   ],
   "source": [
    "path_china = '../../datasets/ch71009.tsp'\n",
    "G = read_coord_data(path_china, n_cities=30, seed=1999)"
   ]
  },
  {
   "cell_type": "markdown",
   "id": "alpine-credit",
   "metadata": {},
   "source": [
    "## Separación por _workers_\n",
    "\n",
    "Inicialmente, buscamos ver la forma de distibuir los trabajos por _worker_. Se implementó la función `assign_ants_threats`, la cual busca definir qúe número de hormigas asigna a cada _worker_.\n",
    "\n",
    "En particular, se busca hacer una distribución equitativa de hormigas entre _workers_, sin embargo, si el número de hormigas seleccionado no es múltiplo del número de _workers_, entonces se asigna el módulo restante de forma equitativa entre algunos de los _workers_.\n",
    "\n",
    "Por defecto se selecciona el número de _workers_ como el número de CPUs disponibles, pero este parámetro puede ser controlado por el usuario con `n_cpu`."
   ]
  },
  {
   "cell_type": "code",
   "execution_count": 3,
   "id": "supported-directory",
   "metadata": {},
   "outputs": [],
   "source": [
    "def assign_ants_threats(n_ants, n_cpu=cpu_count()):\n",
    "    mod = n_ants % n_cpu\n",
    "    no_mod = n_ants - mod\n",
    "    N_all = int(no_mod/n_cpu) # every thread will have at least N_all ants\n",
    "    \n",
    "    # list of ants for every thread\n",
    "    if n_ants < n_cpu:\n",
    "        ants_per_threat = [[N_all] for t in range(n_ants)]\n",
    "    else:\n",
    "        ants_per_threat = [[N_all] for t in range(n_cpu)]\n",
    "\n",
    "    # Assign module\n",
    "    for i in range(mod):\n",
    "        ants_per_threat[i][0] += 1\n",
    "        \n",
    "    return ants_per_threat\n"
   ]
  },
  {
   "cell_type": "code",
   "execution_count": 4,
   "id": "rising-martial",
   "metadata": {},
   "outputs": [
    {
     "name": "stdout",
     "output_type": "stream",
     "text": [
      "- Esta maquina tiene 12 cpu (s).\n",
      "- Se seleccionaron 6 workers en el pool y 32 hormigas.\n",
      "- La asignación de hormigas por worker fue: \n",
      " [[3], [3], [3], [3], [3], [3], [3], [3], [2], [2], [2], [2]]\n"
     ]
    }
   ],
   "source": [
    "## ejemplo\n",
    "print(f'- Esta maquina tiene {cpu_count()} cpu (s).')\n",
    "n_ants = 32\n",
    "n_cpu = 6\n",
    "print(f'- Se seleccionaron {n_cpu} workers en el pool y {n_ants} hormigas.')\n",
    "ants_per_wk = assign_ants_threats(n_ants, n_cpu=cpu_count())\n",
    "print(f'- La asignación de hormigas por worker fue: \\n {ants_per_wk}')"
   ]
  },
  {
   "cell_type": "code",
   "execution_count": 5,
   "id": "compressed-james",
   "metadata": {},
   "outputs": [
    {
     "name": "stdout",
     "output_type": "stream",
     "text": [
      "- Esta maquina tiene 12 cpu (s).\n",
      "- Se seleccionaron 12 workers en el pool y 8 hormigas.\n",
      "- La asignación de hormigas por worker fue: \n",
      " [[1], [1], [1], [1], [1], [1], [1], [1]]\n"
     ]
    }
   ],
   "source": [
    "## ejemplo con menos workers que hormigas\n",
    "print(f'- Esta maquina tiene {cpu_count()} cpu (s).')\n",
    "n_ants = 8\n",
    "n_cpu = cpu_count()\n",
    "print(f'- Se seleccionaron {n_cpu} workers en el pool y {n_ants} hormigas.')\n",
    "ants_per_wk = assign_ants_threats(n_ants, n_cpu=cpu_count())\n",
    "print(f'- La asignación de hormigas por worker fue: \\n {ants_per_wk}')"
   ]
  },
  {
   "cell_type": "markdown",
   "id": "valuable-universal",
   "metadata": {},
   "source": [
    "## _Pool_ de _workers_\n",
    "\n",
    "- Función por _worker_\n",
    "\n",
    "Para poder distribuir los trabajos sobre cada _worker_, debemos definir la función que cada uno ejecutará. En particular, se busca que el número asignado de hormigas a cada _worker_ recorra el grafo buscando una solución al problema TSP, y se devuelva la distancia y el recorrido hecho por cada hormiga en forma de una lista de tuplas. \n",
    "\n",
    "Esto se realizó en la función `n_ants_walk`:"
   ]
  },
  {
   "cell_type": "code",
   "execution_count": 6,
   "id": "understanding-acting",
   "metadata": {},
   "outputs": [],
   "source": [
    "def n_ants_walk(n_ants, G):\n",
    "    ants_in_thread = [ant(G) for i in range(n_ants)]\n",
    "    # solution for each ant\n",
    "    for a in ants_in_thread:\n",
    "        a.walk_over_graph(0, 'inf', A)\n",
    "    # tuple with sln for each ant\n",
    "    slns = [(a.route, a.r_len) for a in ants_in_thread]\n",
    "    return slns"
   ]
  },
  {
   "cell_type": "markdown",
   "id": "regulation-illness",
   "metadata": {},
   "source": [
    "- Aplanar lista de listas\n",
    "Dado que `pool.starmap` nos devolverá una lista de listas anidada, bsucamos aplanarla para una lectura más fácil en nuestro algoritmo, por lo que se definió `flatten_list_of_list` para aplanar dicha lista en una sola."
   ]
  },
  {
   "cell_type": "code",
   "execution_count": 7,
   "id": "focused-acrylic",
   "metadata": {},
   "outputs": [],
   "source": [
    "def flatten_list_of_list(list_of_list):\n",
    "    flatten_lst = []\n",
    "    for l in list_of_list:\n",
    "        for j in l:\n",
    "            flatten_lst.append(j) \n",
    "    return flatten_lst"
   ]
  },
  {
   "cell_type": "markdown",
   "id": "german-diary",
   "metadata": {},
   "source": [
    "- Se define `multiprocessing_bt` para ejecutar la función `n_ants_walk` en el _pool_ de _workers_. Una vez terminado el proceso se devuelve una lista de tuplas con los recorridos de todas las hormigas y sus distancias asociadas. "
   ]
  },
  {
   "cell_type": "code",
   "execution_count": 8,
   "id": "respected-biodiversity",
   "metadata": {},
   "outputs": [],
   "source": [
    "def multiprocessing_bt(ants_per_threat, num_cpu):\n",
    "    with multiprocessing.Pool(processes=num_cpu) as pool:\n",
    "        results = pool.starmap(n_ants_walk, ants_per_threat)\n",
    "        \n",
    "    return flatten_list_of_list(results)"
   ]
  },
  {
   "cell_type": "markdown",
   "id": "confirmed-drove",
   "metadata": {},
   "source": [
    "## Reimplementación de `colony`\n",
    "\n",
    "Finalmente se incluye el paso de multiprocesamiento en el método `solve_tsp` de la clase `colony`. A modo de ejemplo se reimplementará la clase `colony_multiw`con los ajustes correspondientes."
   ]
  },
  {
   "cell_type": "code",
   "execution_count": 9,
   "id": "cathedral-scout",
   "metadata": {},
   "outputs": [],
   "source": [
    "class colony_multiw():\n",
    "    \"\"\"Clase que representa una colonia de hormigas que recorren\n",
    "    el grafo asignado para resolver el problema TSP.\n",
    "\n",
    "    Args:\n",
    "        G (networkx graph): Grafo con relaciones asociadas entre nodos\n",
    "        init_node (int): Nodo inicial del recorrido.\n",
    "        best_route (list, optional): Ruta con respecto a la cual se quiere mejorar.\n",
    "        best_dist ([type], optional): Distancia total del recorrido x_best.\n",
    "        n_ants (int, optional): Número de hormigas. Default es 2.\n",
    "        max_iter (int, optional): [description]. Default es 100.\n",
    "        alpha (int, optional): Factor de influencia de tau. Defaults to 1.\n",
    "        beta (int, optional): Factor de influencia de eta. Defaults to 5.\n",
    "        rho (float, optional): Tasa de evaporación de las feromonas. Defaults to .5.\n",
    "        verbose (int, optional): Imprime progreso del algoritmo cada K iteraciones. Defaults to 10.\n",
    "    \"\"\"\n",
    "    def __init__(self, G, init_node,\n",
    "                 best_route = [],\n",
    "                 best_dist = float('inf'),\n",
    "                 n_ants=2,\n",
    "                 max_iter=10, \n",
    "                 alpha=1, \n",
    "                 beta=5, \n",
    "                 rho=.5,\n",
    "                 n_workers = 1,\n",
    "                 verbose=10):\n",
    "        self.graph = G\n",
    "        self.A = None\n",
    "        self.init_node = init_node\n",
    "        self.best_route = best_route\n",
    "        self.best_dist = best_dist\n",
    "        self.lenghts = create_dic_dist_from_graph(self.graph)\n",
    "        self.n_ants = n_ants\n",
    "        self.max_iter = max_iter\n",
    "        self.alpha = alpha\n",
    "        self.beta = beta\n",
    "        self.rho = rho\n",
    "        self.n_workers = n_workers\n",
    "        self.ants_per_worker = assign_ants_threats(self.n_ants, self.n_workers)\n",
    "        self.tau = init_ferom(self.graph)\n",
    "        self.eta = init_atrac(self.graph, self.lenghts)\n",
    "        \n",
    "    def _update_pheromone_levels(self, route, dist_route):\n",
    "        \"\"\"Actualiza el nivel de feromonas en las respectivas trayectorias\n",
    "        del grafo.\n",
    "\n",
    "        Args:\n",
    "            route (lst): Lista que incluye un recorrido por el grafo.\n",
    "            dist_route (float): Distancia de la ruta.\n",
    "        \"\"\"\n",
    "        for i in range(1, len(route[:-1])):\n",
    "            self.tau[i-1][i] += 1/dist_route\n",
    "        self.tau[route[:-1][-1]][self.init_node]\n",
    "        \n",
    "    def _update_many_pheromone_levels(self, routes, distances):\n",
    "        \"\"\"Actualiza los niveles de feromonas para diferentes rutas\n",
    "        recorridas por diferentes hormigas.\n",
    "\n",
    "        Args:\n",
    "            routes (lst of lst): Lista que contiene los recorridos \n",
    "            realziados por diferentes hormigas.\n",
    "            distances (lst of floats): Lista con las distancias de\n",
    "            las rutas.\n",
    "        \"\"\"\n",
    "        if (len(distances) == len(self.graph.nodes)):\n",
    "            for i in range(len(routes)):\n",
    "                self._update_pheromone_levels(routes[i], distances[i])\n",
    "                \n",
    "    def _evaporates_pheromone(self):\n",
    "        \"\"\"Evapora los niveles de feromonas en todos los tramos del \n",
    "        grafo.\n",
    "        \"\"\"\n",
    "        for e in self.tau:\n",
    "            for v in self.tau:\n",
    "                self.tau[e][v] = (1-self.rho)*v\n",
    "                \n",
    "    def _n_ants_walk(self, n_ants):\n",
    "        ants_in_thread = [ant(self.graph) for i in range(n_ants)]\n",
    "        # solution for each ant\n",
    "        for a in ants_in_thread:\n",
    "            a.walk_over_graph(0, 'inf', self.A)\n",
    "        # tuple with sln for each ant\n",
    "        slns = [(a.route, a.r_len) for a in ants_in_thread]\n",
    "        return slns\n",
    "    \n",
    "    def _multiprocessing_bt(self, ants_per_threat, num_cpu):\n",
    "        with Pool(processes=num_cpu) as pool:\n",
    "            results = pool.starmap(self._n_ants_walk, ants_per_threat)\n",
    "        \n",
    "        return flatten_list_of_list(results)\n",
    "    \n",
    "    def _colony_run(self, A):\n",
    "        \"\"\"La hormigas de la colonia realizan recorridos \n",
    "        independientes simultáneamente.\n",
    "\n",
    "        Args:\n",
    "            A (dic): nivel de atracción de los nodos con respecto\n",
    "            a sus vecinos.\n",
    "        \"\"\"\n",
    "        # multiprocessing\n",
    "        ants_journey = self._multiprocessing_bt(self.ants_per_worker, self.n_workers)\n",
    "        \n",
    "        # get paths and distances\n",
    "        routes, distances = zip(*ants_journey)\n",
    "        # updates pheromone levels\n",
    "        self._update_many_pheromone_levels(routes, distances)\n",
    "            \n",
    "        # best route\n",
    "        bst_idx = np.argmin(distances)\n",
    "        min_dist = distances[bst_idx]\n",
    "        bst_route = routes[bst_idx]\n",
    "        \n",
    "        # improves route if possible\n",
    "        if min_dist < self.best_dist:\n",
    "            self.best_dist = min_dist\n",
    "            self.best_route = bst_route\n",
    "            \n",
    "    def solve_tsp(self):\n",
    "        \"\"\"Resuelve el problema TSP.\n",
    "        \"\"\"\n",
    "        route = self.best_route\n",
    "        dist = self.best_dist\n",
    "        \n",
    "        for k in range(self.max_iter):\n",
    "            self.A = atraccion_nodos(self.graph,tau= self.tau, eta=self.eta, \n",
    "                                alpha=self.alpha, beta=self.beta)\n",
    "            \n",
    "            if k>1:\n",
    "                self._evaporates_pheromone()\n",
    "                \n",
    "            # ants running across the graph\n",
    "            self._colony_run(self.A)\n",
    "            \n",
    "    def plot_route(self, plt_size=(12, 8)):\n",
    "        \"\"\"Grafica la trayectoria encontrada por la colonia en el grafo.\n",
    "\n",
    "        Args:\n",
    "            plt_size (tuple, optional): Tamaño del gŕafico (ancho x altura). Defaults es (12, 8).\n",
    "        \"\"\"\n",
    "        graph_optim_path(self.graph, self.best_route, self.best_dist, plt_size)"
   ]
  },
  {
   "cell_type": "markdown",
   "id": "hydraulic-raising",
   "metadata": {},
   "source": [
    "A continuación se resuelve el problema *TSP* para el conjunto de datos seleccionados utilizando la nueva clase."
   ]
  },
  {
   "cell_type": "code",
   "execution_count": 10,
   "id": "constant-funds",
   "metadata": {},
   "outputs": [],
   "source": [
    "colony_mw = colony_multiw(G, init_node=0,  n_ants= 100, n_workers=12)"
   ]
  },
  {
   "cell_type": "code",
   "execution_count": 11,
   "id": "binary-representative",
   "metadata": {},
   "outputs": [],
   "source": [
    "start_time = time.time()\n",
    "colony_mw.solve_tsp()\n",
    "end_time = time.time()"
   ]
  },
  {
   "cell_type": "code",
   "execution_count": 12,
   "id": "north-authentication",
   "metadata": {},
   "outputs": [
    {
     "name": "stdout",
     "output_type": "stream",
     "text": [
      "La solucion con pool de workers tomó 1.3901257514953613 segundos.\n",
      "Distancia 358.34575075242924 kms.\n"
     ]
    }
   ],
   "source": [
    "secs = end_time-start_time\n",
    "print(\"La solucion con pool de workers tomó\", secs, \"segundos.\" )\n",
    "print(f\"Distancia {colony_mw.best_dist} kms.\")"
   ]
  },
  {
   "cell_type": "markdown",
   "id": "great-passenger",
   "metadata": {},
   "source": [
    "## Comparación con clase `colony`"
   ]
  },
  {
   "cell_type": "code",
   "execution_count": 13,
   "id": "martial-dylan",
   "metadata": {},
   "outputs": [],
   "source": [
    "colony_old = colony(G, init_node=0,  n_ants= 100)"
   ]
  },
  {
   "cell_type": "code",
   "execution_count": 14,
   "id": "vietnamese-stewart",
   "metadata": {},
   "outputs": [],
   "source": [
    "start_time = time.time()\n",
    "colony_old.solve_tsp()\n",
    "end_time = time.time()"
   ]
  },
  {
   "cell_type": "code",
   "execution_count": 15,
   "id": "elegant-flavor",
   "metadata": {},
   "outputs": [
    {
     "name": "stdout",
     "output_type": "stream",
     "text": [
      "La solucion sin pool tomó 8.584644079208374 segundos.\n",
      "Distancia 358.34575075242924 kms.\n"
     ]
    }
   ],
   "source": [
    "secs = end_time-start_time\n",
    "print(\"La solucion sin pool tomó\", secs, \"segundos.\" )\n",
    "print(f\"Distancia {colony_old.best_dist} kms.\")"
   ]
  },
  {
   "cell_type": "markdown",
   "id": "boxed-provincial",
   "metadata": {},
   "source": [
    "## Referencias\n",
    "- Capítulo V del libro de optimización (Cómputo en paralelo usando CPUs en un sistema de memoria compartida (SMC): https://itam-ds.github.io/analisis-numerico-computo-cientifico/V.optimizacion_de_codigo/5.4/Computo_en_paralelo_usando_CPUS_en_SMC.html#\n",
    "- Librería [`multiprocessing`](https://docs.python.org/3.1/library/multiprocessing.html): https://docs.python.org/3.1/library/multiprocessing.html"
   ]
  }
 ],
 "metadata": {
  "kernelspec": {
   "display_name": "Python 3",
   "language": "python",
   "name": "python3"
  },
  "language_info": {
   "codemirror_mode": {
    "name": "ipython",
    "version": 3
   },
   "file_extension": ".py",
   "mimetype": "text/x-python",
   "name": "python",
   "nbconvert_exporter": "python",
   "pygments_lexer": "ipython3",
   "version": "3.7.10"
  }
 },
 "nbformat": 4,
 "nbformat_minor": 5
}
