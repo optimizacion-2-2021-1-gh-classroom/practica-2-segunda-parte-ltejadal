{
 "cells": [
  {
   "cell_type": "markdown",
   "id": "shaped-biography",
   "metadata": {},
   "source": [
    "\n",
    "# Implementación con _multiprocessing_\n",
    "\n",
    "El algoritmo inicialmente se implementó con un enfoque secuencial en la clase `colony` para la solución del problema TSP con el algoritmo ACO. Con el fin de volver más eficiente el código y reducir el tiempo de ejecución se implementó multi-procesamiento para hacer _spawn_ y crear un _pool_ de procesos utilizando la librería [`multiprocessing`](https://docs.python.org/3/library/multiprocessing.html) de `Python`.\n",
    "\n",
    "Se incluyó la clase `colony_mw` en el modulo [aco_tsp_oo](https://github.com/optimizacion-2-2021-1-gh-classroom/practica-1-segunda-parte-ltejadal/blob/main/src/ant_colony/aco_tsp_oo.py) del repo original que contiene la librería. El funcionamiento y lógica de esta función se explican a detalle en el siguiente [`notebook`](https://github.com/optimizacion-2-2021-1-gh-classroom/practica-2-segunda-parte-ltejadal/blob/main/notebooks/eficiencia_codigo/reimplementacion_multiprocessing.ipynb).\n",
    "\n",
    "El propósito de este `notebook` es presentar la utilización de la nueva clase utilizando 1000 hormigas para resolver el problema TSP de 100 ciudades chinas, sacadas aleatoriamente del conjunto de la base de datos National Traveling Salesman Problems de la Universidad de Waterloo, disponible [aquí](https://www.math.uwaterloo.ca/tsp/world/countries.html). Adicionalmente, se hace una comparación de tiempo de computo con respecto a la clase `colony`. **En esta pruba se obtiene una mejora importante en el tiempo de cómputo con la nueva implementación**."
   ]
  },
  {
   "cell_type": "markdown",
   "id": "north-waters",
   "metadata": {},
   "source": [
    "Para efectos de comparabilidad incluimos las características de la máquina donde se ejecuta esta prueba."
   ]
  },
  {
   "cell_type": "code",
   "execution_count": 6,
   "id": "stuffed-shakespeare",
   "metadata": {},
   "outputs": [
    {
     "name": "stdout",
     "output_type": "stream",
     "text": [
      "Architecture:        x86_64\r\n",
      "CPU op-mode(s):      32-bit, 64-bit\r\n",
      "Byte Order:          Little Endian\r\n",
      "CPU(s):              12\r\n",
      "On-line CPU(s) list: 0-11\r\n",
      "Thread(s) per core:  2\r\n",
      "Core(s) per socket:  6\r\n",
      "Socket(s):           1\r\n",
      "NUMA node(s):        1\r\n",
      "Vendor ID:           GenuineIntel\r\n",
      "CPU family:          6\r\n",
      "Model:               165\r\n",
      "Model name:          Intel(R) Core(TM) i7-10750H CPU @ 2.60GHz\r\n",
      "Stepping:            2\r\n",
      "CPU MHz:             2191.606\r\n",
      "CPU max MHz:         5000.0000\r\n",
      "CPU min MHz:         800.0000\r\n",
      "BogoMIPS:            5199.98\r\n",
      "Virtualization:      VT-x\r\n",
      "L1d cache:           32K\r\n",
      "L1i cache:           32K\r\n",
      "L2 cache:            256K\r\n",
      "L3 cache:            12288K\r\n",
      "NUMA node0 CPU(s):   0-11\r\n",
      "Flags:               fpu vme de pse tsc msr pae mce cx8 apic sep mtrr pge mca cmov pat pse36 clflush dts acpi mmx fxsr sse sse2 ss ht tm pbe syscall nx pdpe1gb rdtscp lm constant_tsc art arch_perfmon pebs bts rep_good nopl xtopology nonstop_tsc cpuid aperfmperf pni pclmulqdq dtes64 monitor ds_cpl vmx est tm2 ssse3 sdbg fma cx16 xtpr pdcm pcid sse4_1 sse4_2 x2apic movbe popcnt tsc_deadline_timer aes xsave avx f16c rdrand lahf_lm abm 3dnowprefetch cpuid_fault epb invpcid_single ssbd ibrs ibpb stibp ibrs_enhanced tpr_shadow vnmi flexpriority ept vpid ept_ad fsgsbase tsc_adjust bmi1 avx2 smep bmi2 erms invpcid mpx rdseed adx smap clflushopt intel_pt xsaveopt xsavec xgetbv1 xsaves dtherm ida arat pln pts hwp hwp_notify hwp_act_window hwp_epp pku ospke md_clear flush_l1d arch_capabilities\r\n"
     ]
    }
   ],
   "source": [
    "!lscpu"
   ]
  },
  {
   "cell_type": "code",
   "execution_count": 1,
   "id": "gorgeous-contamination",
   "metadata": {},
   "outputs": [],
   "source": [
    "# instalar libreria\n",
    "!pip install \"git+https://github.com/optimizacion-2-2021-1-gh-classroom/practica-1-segunda-parte-ltejadal.git#egg=ant-colony&subdirectory=src\" &> /dev/null"
   ]
  },
  {
   "cell_type": "code",
   "execution_count": 7,
   "id": "deadly-england",
   "metadata": {},
   "outputs": [],
   "source": [
    "import ant_colony as ac\n",
    "import time\n",
    "n_ants = 1000\n",
    "n_cities =100"
   ]
  },
  {
   "cell_type": "code",
   "execution_count": 8,
   "id": "collectible-boulder",
   "metadata": {},
   "outputs": [
    {
     "name": "stdout",
     "output_type": "stream",
     "text": [
      "Problem with 71009 cities. Selected 100.\n"
     ]
    }
   ],
   "source": [
    "path_china = '../../datasets/ch71009.tsp'\n",
    "G = ac.read_coord_data(path_china, n_cities=n_cities, seed=1999)"
   ]
  },
  {
   "cell_type": "markdown",
   "id": "pleased-spice",
   "metadata": {},
   "source": [
    "## Implementación con clase `colony_multiw`"
   ]
  },
  {
   "cell_type": "markdown",
   "id": "alleged-share",
   "metadata": {},
   "source": [
    "Inicialmente instanciamos la nueva clase, y para este ejemplo se utilizaŕa la totalidad de CPU disponibles en la máquina, 12, y 1000 hormigas."
   ]
  },
  {
   "cell_type": "code",
   "execution_count": 9,
   "id": "social-professor",
   "metadata": {},
   "outputs": [],
   "source": [
    "colony_mw = ac.colony_multiw(G, init_node=0,  n_ants= n_ants, n_workers=12)"
   ]
  },
  {
   "cell_type": "code",
   "execution_count": 10,
   "id": "endangered-department",
   "metadata": {},
   "outputs": [],
   "source": [
    "start_time = time.time()\n",
    "colony_mw.solve_tsp()\n",
    "end_time = time.time()"
   ]
  },
  {
   "cell_type": "code",
   "execution_count": 11,
   "id": "shared-picture",
   "metadata": {},
   "outputs": [
    {
     "name": "stdout",
     "output_type": "stream",
     "text": [
      "La solucion con pool de workers tomó 21.603434801101685 segundos.\n",
      "Distancia 1119.0648040721273 kms.\n"
     ]
    }
   ],
   "source": [
    "secs = end_time-start_time\n",
    "print(\"La solucion con pool de workers tomó\", secs, \"segundos.\" )\n",
    "print(f\"Distancia {colony_mw.best_dist} kms.\")"
   ]
  },
  {
   "cell_type": "markdown",
   "id": "retained-exercise",
   "metadata": {},
   "source": [
    "## Comparación con clase `colony`"
   ]
  },
  {
   "cell_type": "markdown",
   "id": "advised-flexibility",
   "metadata": {},
   "source": [
    "Para la utilización de la clase `colony` solo basta con indicar el número de hormigas que va a utilizar la colonia, 1000, dado que se realizará computo secuencial con 1 CPU. "
   ]
  },
  {
   "cell_type": "code",
   "execution_count": 12,
   "id": "narrow-federal",
   "metadata": {},
   "outputs": [],
   "source": [
    "colony_old = ac.colony(G, init_node=0,  n_ants= n_ants)"
   ]
  },
  {
   "cell_type": "code",
   "execution_count": 13,
   "id": "incorrect-orchestra",
   "metadata": {},
   "outputs": [],
   "source": [
    "start_time = time.time()\n",
    "colony_old.solve_tsp()\n",
    "end_time = time.time()"
   ]
  },
  {
   "cell_type": "code",
   "execution_count": 14,
   "id": "marine-alias",
   "metadata": {},
   "outputs": [
    {
     "name": "stdout",
     "output_type": "stream",
     "text": [
      "La solucion sin pool tomó 794.7479469776154 segundos.\n",
      "Distancia 1119.0648040721273 kms.\n"
     ]
    }
   ],
   "source": [
    "secs = end_time-start_time\n",
    "print(\"La solucion sin pool tomó\", secs, \"segundos.\" )\n",
    "print(f\"Distancia {colony_old.best_dist} kms.\")"
   ]
  },
  {
   "cell_type": "markdown",
   "id": "concerned-crazy",
   "metadata": {},
   "source": [
    "## Conclusión\n",
    "\n",
    "Como se puede observar, con la nueva implementación que incorpora paralelismo en el recorrido de las hormigas **redujo el tiempo de cómputo aproximadamente 37 veces**, pasando de ser 794.74 segundos a 21.6 segundos. "
   ]
  },
  {
   "cell_type": "markdown",
   "id": "rough-corporation",
   "metadata": {},
   "source": [
    "## Referencias\n",
    "\n",
    "- Capítulo V del libro de optimización (Cómputo en paralelo usando CPUs en un sistema de memoria compartida (SMC): https://itam-ds.github.io/analisis-numerico-computo-cientifico/V.optimizacion_de_codigo/5.4/Computo_en_paralelo_usando_CPUS_en_SMC.html#\n",
    "- Librería multiprocessing: https://docs.python.org/3.1/library/multiprocessing.html\n"
   ]
  }
 ],
 "metadata": {
  "kernelspec": {
   "display_name": "Python 3",
   "language": "python",
   "name": "python3"
  },
  "language_info": {
   "codemirror_mode": {
    "name": "ipython",
    "version": 3
   },
   "file_extension": ".py",
   "mimetype": "text/x-python",
   "name": "python",
   "nbconvert_exporter": "python",
   "pygments_lexer": "ipython3",
   "version": "3.7.10"
  }
 },
 "nbformat": 4,
 "nbformat_minor": 5
}
