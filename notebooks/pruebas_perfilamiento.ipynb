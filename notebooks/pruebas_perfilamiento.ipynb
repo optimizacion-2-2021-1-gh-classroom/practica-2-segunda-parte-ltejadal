{
 "cells": [
  {
   "cell_type": "code",
   "execution_count": 50,
   "metadata": {},
   "outputs": [],
   "source": [
    "import ant_colony\n"
   ]
  },
  {
   "cell_type": "code",
   "execution_count": 51,
   "metadata": {},
   "outputs": [],
   "source": [
    "from ant_colony.aco_tsp import *"
   ]
  },
  {
   "cell_type": "code",
   "execution_count": 52,
   "metadata": {},
   "outputs": [],
   "source": [
    "from ant_colony.utils import *\n",
    "from ant_colony.aco_tsp_oo import *"
   ]
  },
  {
   "cell_type": "code",
   "execution_count": 53,
   "metadata": {},
   "outputs": [],
   "source": [
    "# !pip install line-profiler\n",
    "# !pip install memory_profiler"
   ]
  },
  {
   "cell_type": "code",
   "execution_count": null,
   "metadata": {},
   "outputs": [],
   "source": []
  },
  {
   "cell_type": "code",
   "execution_count": 54,
   "metadata": {},
   "outputs": [],
   "source": [
    "import timeit\n",
    "import cProfile\n",
    "import pstats\n",
    "import memory_profiler\n",
    "from memory_profiler import memory_usage"
   ]
  },
  {
   "cell_type": "code",
   "execution_count": null,
   "metadata": {},
   "outputs": [],
   "source": [
    "## import line_profiler\n",
    "NO FUNCIONa"
   ]
  },
  {
   "cell_type": "markdown",
   "metadata": {},
   "source": [
    "# En primer lugar, veamos las características de la máquina que se utilizarán para el perfilamiento: "
   ]
  },
  {
   "cell_type": "code",
   "execution_count": 40,
   "metadata": {},
   "outputs": [],
   "source": [
    "# Esto deberia funcionar en linux\n",
    "\n",
    "#%%bash\n",
    "#lscpu"
   ]
  },
  {
   "cell_type": "code",
   "execution_count": 41,
   "metadata": {},
   "outputs": [],
   "source": [
    "#%%bash\n",
    "#sudo lshw -C memory"
   ]
  },
  {
   "cell_type": "code",
   "execution_count": null,
   "metadata": {},
   "outputs": [],
   "source": []
  },
  {
   "cell_type": "code",
   "execution_count": 55,
   "metadata": {},
   "outputs": [],
   "source": [
    "path = '../datasets/gr17_d_city_distances.txt'"
   ]
  },
  {
   "cell_type": "code",
   "execution_count": 56,
   "metadata": {},
   "outputs": [],
   "source": [
    "G = read_data(path)\n"
   ]
  },
  {
   "cell_type": "code",
   "execution_count": 10,
   "metadata": {},
   "outputs": [
    {
     "data": {
      "text/plain": [
       "<networkx.classes.graph.Graph at 0x11d8a7150>"
      ]
     },
     "execution_count": 10,
     "metadata": {},
     "output_type": "execute_result"
    }
   ],
   "source": [
    "G"
   ]
  },
  {
   "cell_type": "markdown",
   "metadata": {},
   "source": [
    "# Primero vamos a medir los tiempos de ejecucion"
   ]
  },
  {
   "cell_type": "markdown",
   "metadata": {},
   "source": [
    "## Timeit para medir tiempos de ejecución"
   ]
  },
  {
   "cell_type": "code",
   "execution_count": 16,
   "metadata": {},
   "outputs": [],
   "source": [
    "colonia = colony(G, \n",
    "                 init_node=7, \n",
    "                 n_ants=5, \n",
    "                 max_iter=500, \n",
    "                 rho=.5, \n",
    "                 alpha=3,\n",
    "                 beta=3)"
   ]
  },
  {
   "cell_type": "markdown",
   "metadata": {},
   "source": [
    "## Probamos el metodo solve.tsp"
   ]
  },
  {
   "cell_type": "markdown",
   "metadata": {},
   "source": [
    "### Primero medimos el tiempo que toma ejecutar el método "
   ]
  },
  {
   "cell_type": "code",
   "execution_count": 18,
   "metadata": {},
   "outputs": [
    {
     "name": "stdout",
     "output_type": "stream",
     "text": [
      "- Tiempo total: -0.0028420799999366864 segundos.\n"
     ]
    }
   ],
   "source": [
    "start = timeit.timeit()\n",
    "colonia.solve_tsp()\n",
    "end = timeit.timeit()\n",
    "print(f\"- Tiempo total: {(end-start)} segundos.\")"
   ]
  },
  {
   "cell_type": "code",
   "execution_count": null,
   "metadata": {},
   "outputs": [],
   "source": []
  },
  {
   "cell_type": "markdown",
   "metadata": {},
   "source": [
    "### A continuación utilizamos cProfile para ver las partes del método que más se tardan "
   ]
  },
  {
   "cell_type": "code",
   "execution_count": 23,
   "metadata": {},
   "outputs": [
    {
     "name": "stdout",
     "output_type": "stream",
     "text": [
      "         3141046 function calls (3140546 primitive calls) in 3.035 seconds\n",
      "\n",
      "   Ordered by: cumulative time\n",
      "\n",
      "   ncalls  tottime  percall  cumtime  percall filename:lineno(function)\n",
      "        2    0.000    0.000    3.035    1.517 interactiveshell.py:3376(run_code)\n",
      "        2    0.000    0.000    3.035    1.517 {built-in method builtins.exec}\n",
      "        1    0.000    0.000    3.034    3.034 <ipython-input-23-5fb9737eed66>:3(<module>)\n",
      "        1    0.015    0.015    3.034    3.034 aco_tsp_oo.py:112(solve_tsp)\n",
      "      500    0.077    0.000    2.822    0.006 aco_tsp_oo.py:81(_colony_run)\n",
      "     2500    0.309    0.000    2.739    0.001 aco_tsp_oo.py:151(walk_over_graph)\n",
      "     2500    0.351    0.000    2.071    0.001 utils.py:25(create_dic_dist_from_graph)\n",
      "   767500    0.872    0.000    1.112    0.000 defmatrix.py:189(__getitem__)\n",
      "     2500    0.012    0.000    0.602    0.000 convert_matrix.py:442(to_numpy_matrix)\n",
      "     2500    0.391    0.000    0.539    0.000 convert_matrix.py:1093(to_numpy_array)\n",
      "    40000    0.148    0.000    0.230    0.000 random.py:344(choices)\n",
      "   857500    0.158    0.000    0.158    0.000 {built-in method builtins.isinstance}\n",
      "      500    0.151    0.000    0.158    0.000 utils.py:90(atraccion_nodos)\n",
      "   680000    0.086    0.000    0.086    0.000 {method 'get' of 'dict' objects}\n",
      "    40000    0.037    0.000    0.069    0.000 random.py:365(<listcomp>)\n",
      "    87500    0.055    0.000    0.067    0.000 defmatrix.py:167(__array_finalize__)\n",
      "307000/306500    0.063    0.000    0.064    0.000 {built-in method builtins.len}\n",
      "    40000    0.055    0.000    0.055    0.000 aco_tsp_oo.py:175(<listcomp>)\n",
      "     2500    0.005    0.000    0.051    0.000 defmatrix.py:36(asmatrix)\n",
      "     2500    0.009    0.000    0.046    0.000 defmatrix.py:115(__new__)\n",
      "     2500    0.016    0.000    0.042    0.000 numeric.py:268(full)\n",
      "      498    0.039    0.000    0.039    0.000 aco_tsp_oo.py:73(_evaporates_pheromone)\n",
      "    48500    0.023    0.000    0.035    0.000 graph.py:1199(neighbors)\n",
      "     2500    0.026    0.000    0.026    0.000 {built-in method _warnings.warn}\n",
      "    40000    0.024    0.000    0.024    0.000 {built-in method _bisect.bisect_right}\n",
      "     2500    0.004    0.000    0.016    0.000 <__array_function__ internals>:2(copyto)\n",
      "     6000    0.011    0.000    0.014    0.000 graph.py:656(nodes)\n",
      "    59000    0.014    0.000    0.014    0.000 {built-in method builtins.iter}\n",
      "     2500    0.011    0.000    0.011    0.000 {built-in method numpy.core._multiarray_umath.implement_array_function}\n",
      "     2500    0.010    0.000    0.010    0.000 {built-in method builtins.sum}\n",
      "     2500    0.005    0.000    0.009    0.000 {method 'view' of 'numpy.ndarray' objects}\n",
      "     2500    0.008    0.000    0.008    0.000 aco_tsp_oo.py:180(<listcomp>)\n",
      "    40000    0.008    0.000    0.008    0.000 {method 'random' of '_random.Random' objects}\n",
      "     5000    0.007    0.000    0.007    0.000 {built-in method numpy.array}\n",
      "    45000    0.006    0.000    0.006    0.000 {method 'items' of 'dict' objects}\n",
      "     2500    0.005    0.000    0.005    0.000 {built-in method numpy.empty}\n",
      "     2500    0.003    0.000    0.005    0.000 graph.py:1345(adjacency)\n",
      "     2500    0.002    0.000    0.004    0.000 _asarray.py:14(asarray)\n",
      "     5500    0.003    0.000    0.004    0.000 reportviews.py:183(__iter__)\n",
      "      500    0.001    0.000    0.004    0.000 aco_tsp_oo.py:59(_update_many_pheromone_levels)\n",
      "     6000    0.003    0.000    0.004    0.000 reportviews.py:180(__len__)\n",
      "     6000    0.004    0.000    0.004    0.000 reportviews.py:176(__init__)\n",
      "     2500    0.001    0.000    0.002    0.000 graph.py:388(__iter__)\n",
      "     2500    0.001    0.000    0.001    0.000 graph.py:420(__len__)\n",
      "     5000    0.001    0.000    0.001    0.000 {method 'append' of 'list' objects}\n",
      "     2500    0.001    0.000    0.001    0.000 multiarray.py:1043(copyto)\n",
      "      500    0.001    0.000    0.001    0.000 {built-in method builtins.min}\n",
      "     2500    0.001    0.000    0.001    0.000 graph.py:1443(is_directed)\n",
      "     2500    0.001    0.000    0.001    0.000 graph.py:1439(is_multigraph)\n",
      "      500    0.000    0.000    0.000    0.000 {method 'index' of 'list' objects}\n",
      "        2    0.000    0.000    0.000    0.000 codeop.py:132(__call__)\n",
      "        2    0.000    0.000    0.000    0.000 {built-in method builtins.compile}\n",
      "        1    0.000    0.000    0.000    0.000 <ipython-input-23-5fb9737eed66>:4(<module>)\n",
      "        2    0.000    0.000    0.000    0.000 contextlib.py:237(helper)\n",
      "        2    0.000    0.000    0.000    0.000 contextlib.py:81(__init__)\n",
      "        2    0.000    0.000    0.000    0.000 contextlib.py:107(__enter__)\n",
      "        2    0.000    0.000    0.000    0.000 contextlib.py:116(__exit__)\n",
      "        4    0.000    0.000    0.000    0.000 {built-in method builtins.next}\n",
      "        2    0.000    0.000    0.000    0.000 interactiveshell.py:117(<lambda>)\n",
      "        4    0.000    0.000    0.000    0.000 {built-in method builtins.getattr}\n",
      "        2    0.000    0.000    0.000    0.000 traitlets.py:564(__get__)\n",
      "        2    0.000    0.000    0.000    0.000 hooks.py:103(__call__)\n",
      "        2    0.000    0.000    0.000    0.000 traitlets.py:533(get)\n",
      "        4    0.000    0.000    0.000    0.000 compilerop.py:138(extra_flags)\n",
      "        2    0.000    0.000    0.000    0.000 ipstruct.py:125(__getattr__)\n",
      "        2    0.000    0.000    0.000    0.000 interactiveshell.py:1276(user_global_ns)\n",
      "        1    0.000    0.000    0.000    0.000 {method 'disable' of '_lsprof.Profiler' objects}\n",
      "        2    0.000    0.000    0.000    0.000 interactiveshell.py:3318(compare)\n",
      "        2    0.000    0.000    0.000    0.000 hooks.py:168(pre_run_code_hook)\n",
      "\n",
      "\n"
     ]
    }
   ],
   "source": [
    "cprof = cProfile.Profile()\n",
    "cprof.enable()\n",
    "res =  colonia.solve_tsp()\n",
    "cprof.disable()\n",
    "cprof.print_stats(sort='cumtime')"
   ]
  },
  {
   "cell_type": "markdown",
   "metadata": {},
   "source": [
    "Y observamos que lo que mas se tarda es : \n",
    "    \n",
    "     2500    0.309    0.000    2.739    0.001 aco_tsp_oo.py:151(walk_over_graph)\n",
    "     2500    0.351    0.000    2.071    0.001 utils.py:25(create_dic_dist_from_graph)\n",
    "   767500    0.872    0.000    1.112    0.000 defmatrix.py:189(__getitem__)"
   ]
  },
  {
   "cell_type": "code",
   "execution_count": 24,
   "metadata": {},
   "outputs": [],
   "source": [
    "cprof.dump_stats(\"solve_tsp_stats\")\n"
   ]
  },
  {
   "cell_type": "code",
   "execution_count": 27,
   "metadata": {},
   "outputs": [
    {
     "name": "stdout",
     "output_type": "stream",
     "text": [
      "Wed Apr 28 14:09:48 2021    solve_tsp_stats\n",
      "\n",
      "         3141046 function calls (3140546 primitive calls) in 3.035 seconds\n",
      "\n",
      "   Ordered by: cumulative time\n",
      "   List reduced from 69 to 10 due to restriction <10>\n",
      "\n",
      "   ncalls  tottime  percall  cumtime  percall filename:lineno(function)\n",
      "        2    0.000    0.000    3.035    1.517 /Users/sansansansan/.pyenv/versions/3.7.4/envs/itam_intro_to_ds/lib/python3.7/site-packages/IPython/core/interactiveshell.py:3376(run_code)\n",
      "        2    0.000    0.000    3.035    1.517 {built-in method builtins.exec}\n",
      "        1    0.000    0.000    3.034    3.034 <ipython-input-23-5fb9737eed66>:3(<module>)\n",
      "        1    0.015    0.015    3.034    3.034 /Users/sansansansan/.pyenv/versions/3.7.4/envs/itam_intro_to_ds/lib/python3.7/site-packages/ant_colony/aco_tsp_oo.py:112(solve_tsp)\n",
      "      500    0.077    0.000    2.822    0.006 /Users/sansansansan/.pyenv/versions/3.7.4/envs/itam_intro_to_ds/lib/python3.7/site-packages/ant_colony/aco_tsp_oo.py:81(_colony_run)\n",
      "     2500    0.309    0.000    2.739    0.001 /Users/sansansansan/.pyenv/versions/3.7.4/envs/itam_intro_to_ds/lib/python3.7/site-packages/ant_colony/aco_tsp_oo.py:151(walk_over_graph)\n",
      "     2500    0.351    0.000    2.071    0.001 /Users/sansansansan/.pyenv/versions/3.7.4/envs/itam_intro_to_ds/lib/python3.7/site-packages/ant_colony/utils.py:25(create_dic_dist_from_graph)\n",
      "   767500    0.872    0.000    1.112    0.000 /Users/sansansansan/.pyenv/versions/3.7.4/envs/itam_intro_to_ds/lib/python3.7/site-packages/numpy/matrixlib/defmatrix.py:189(__getitem__)\n",
      "     2500    0.012    0.000    0.602    0.000 /Users/sansansansan/.pyenv/versions/3.7.4/envs/itam_intro_to_ds/lib/python3.7/site-packages/networkx/convert_matrix.py:442(to_numpy_matrix)\n",
      "     2500    0.391    0.000    0.539    0.000 /Users/sansansansan/.pyenv/versions/3.7.4/envs/itam_intro_to_ds/lib/python3.7/site-packages/networkx/convert_matrix.py:1093(to_numpy_array)\n",
      "\n",
      "\n",
      "<pstats.Stats object at 0x11d94ee10>\n"
     ]
    }
   ],
   "source": [
    "p_solve_tsp_stats = pstats.Stats(\"solve_tsp_stats\")\n",
    "print(p_solve_tsp_stats.sort_stats(\"cumulative\").print_stats(10))"
   ]
  },
  {
   "cell_type": "markdown",
   "metadata": {},
   "source": [
    "### Nuevamente observamos que walk over graph , get item y create dict dist from graph son las que mas se tardan \n",
    "\n"
   ]
  },
  {
   "cell_type": "code",
   "execution_count": null,
   "metadata": {},
   "outputs": [],
   "source": []
  },
  {
   "cell_type": "code",
   "execution_count": null,
   "metadata": {},
   "outputs": [],
   "source": []
  },
  {
   "cell_type": "code",
   "execution_count": null,
   "metadata": {},
   "outputs": [],
   "source": []
  },
  {
   "cell_type": "markdown",
   "metadata": {},
   "source": [
    "# Ahora realizamos el perfilamiento con respecto a la memoria"
   ]
  },
  {
   "cell_type": "code",
   "execution_count": null,
   "metadata": {},
   "outputs": [],
   "source": []
  },
  {
   "cell_type": "code",
   "execution_count": 49,
   "metadata": {},
   "outputs": [
    {
     "ename": "KeyboardInterrupt",
     "evalue": "",
     "output_type": "error",
     "traceback": [
      "\u001b[0;31m---------------------------------------------------------------------------\u001b[0m",
      "\u001b[0;31mKeyboardInterrupt\u001b[0m                         Traceback (most recent call last)",
      "\u001b[0;32m<ipython-input-49-df29854c9ea3>\u001b[0m in \u001b[0;36m<module>\u001b[0;34m\u001b[0m\n\u001b[1;32m      1\u001b[0m \u001b[0mt\u001b[0m \u001b[0;34m=\u001b[0m \u001b[0;34m(\u001b[0m\u001b[0mcolonia\u001b[0m\u001b[0;34m.\u001b[0m\u001b[0msolve_tsp\u001b[0m\u001b[0;34m(\u001b[0m\u001b[0;34m)\u001b[0m\u001b[0;34m)\u001b[0m\u001b[0;34m\u001b[0m\u001b[0;34m\u001b[0m\u001b[0m\n\u001b[0;32m----> 2\u001b[0;31m \u001b[0mprint\u001b[0m\u001b[0;34m(\u001b[0m\u001b[0mmemory_usage\u001b[0m\u001b[0;34m(\u001b[0m\u001b[0mt\u001b[0m\u001b[0;34m,\u001b[0m \u001b[0mmax_usage\u001b[0m\u001b[0;34m=\u001b[0m\u001b[0;32mTrue\u001b[0m\u001b[0;34m)\u001b[0m\u001b[0;34m)\u001b[0m\u001b[0;34m\u001b[0m\u001b[0;34m\u001b[0m\u001b[0m\n\u001b[0m",
      "\u001b[0;32m~/.pyenv/versions/3.7.4/envs/itam_intro_to_ds/lib/python3.7/site-packages/memory_profiler.py\u001b[0m in \u001b[0;36mmemory_usage\u001b[0;34m(proc, interval, timeout, timestamps, include_children, multiprocess, max_usage, retval, stream, backend, max_iterations)\u001b[0m\n\u001b[1;32m    429\u001b[0m                            ])\n\u001b[1;32m    430\u001b[0m \u001b[0;34m\u001b[0m\u001b[0m\n\u001b[0;32m--> 431\u001b[0;31m             \u001b[0mtime\u001b[0m\u001b[0;34m.\u001b[0m\u001b[0msleep\u001b[0m\u001b[0;34m(\u001b[0m\u001b[0minterval\u001b[0m\u001b[0;34m)\u001b[0m\u001b[0;34m\u001b[0m\u001b[0;34m\u001b[0m\u001b[0m\n\u001b[0m\u001b[1;32m    432\u001b[0m             \u001b[0;31m# Flush every 50 lines.\u001b[0m\u001b[0;34m\u001b[0m\u001b[0;34m\u001b[0m\u001b[0;34m\u001b[0m\u001b[0m\n\u001b[1;32m    433\u001b[0m             \u001b[0;32mif\u001b[0m \u001b[0mcounter\u001b[0m \u001b[0;34m%\u001b[0m \u001b[0;36m50\u001b[0m \u001b[0;34m==\u001b[0m \u001b[0;36m0\u001b[0m \u001b[0;32mand\u001b[0m \u001b[0mstream\u001b[0m \u001b[0;32mis\u001b[0m \u001b[0;32mnot\u001b[0m \u001b[0;32mNone\u001b[0m\u001b[0;34m:\u001b[0m\u001b[0;34m\u001b[0m\u001b[0;34m\u001b[0m\u001b[0m\n",
      "\u001b[0;31mKeyboardInterrupt\u001b[0m: "
     ]
    }
   ],
   "source": [
    "t = (colonia.solve_tsp())\n",
    "print(memory_usage(t, max_usage=True))"
   ]
  },
  {
   "cell_type": "code",
   "execution_count": null,
   "metadata": {},
   "outputs": [],
   "source": [
    "start_mem = memory_usage(max_usage=True)\n",
    "res = memory_usage(t, max_usage=True, retval=True)\n",
    "print('start mem', start_mem)\n",
    "print('max mem', res[0])\n",
    "print('used mem', res[0]-start_mem)\n",
    "print('fun output', res[1])"
   ]
  },
  {
   "cell_type": "code",
   "execution_count": 57,
   "metadata": {},
   "outputs": [],
   "source": [
    "%load_ext memory_profiler\n"
   ]
  },
  {
   "cell_type": "code",
   "execution_count": 58,
   "metadata": {},
   "outputs": [
    {
     "name": "stdout",
     "output_type": "stream",
     "text": [
      "peak memory: 128.07 MiB, increment: 0.39 MiB\n"
     ]
    }
   ],
   "source": [
    "%memit #how much RAM this process is consuming\n"
   ]
  },
  {
   "cell_type": "code",
   "execution_count": 59,
   "metadata": {},
   "outputs": [
    {
     "name": "stdout",
     "output_type": "stream",
     "text": [
      "peak memory: 134.00 MiB, increment: 6.74 MiB\n"
     ]
    }
   ],
   "source": [
    "%memit -c colonia.solve_tsp()\n"
   ]
  },
  {
   "cell_type": "code",
   "execution_count": null,
   "metadata": {},
   "outputs": [],
   "source": []
  }
 ],
 "metadata": {
  "kernelspec": {
   "display_name": "Python 3",
   "language": "python",
   "name": "python3"
  },
  "language_info": {
   "codemirror_mode": {
    "name": "ipython",
    "version": 3
   },
   "file_extension": ".py",
   "mimetype": "text/x-python",
   "name": "python",
   "nbconvert_exporter": "python",
   "pygments_lexer": "ipython3",
   "version": "3.7.4"
  }
 },
 "nbformat": 4,
 "nbformat_minor": 4
}
